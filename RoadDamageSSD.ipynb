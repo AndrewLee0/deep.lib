{
 "cells": [
  {
   "cell_type": "code",
   "execution_count": 32,
   "metadata": {},
   "outputs": [],
   "source": [
    "import torch\n",
    "import torch.nn as nn\n",
    "import torch.nn.functional as F\n",
    "import torch.optim as optim\n",
    "from torch.autograd import Variable"
   ]
  },
  {
   "cell_type": "code",
   "execution_count": 33,
   "metadata": {},
   "outputs": [],
   "source": [
    "import torchvision\n",
    "from torchvision import datasets, models, transforms"
   ]
  },
  {
   "cell_type": "code",
   "execution_count": 34,
   "metadata": {},
   "outputs": [],
   "source": [
    "import os\n",
    "from pathlib import Path\n",
    "import numpy as np\n",
    "import matplotlib.pyplot as plt\n",
    "from matplotlib import patches, patheffects\n",
    "import pandas as pd\n",
    "import json\n",
    "import cv2\n",
    "from PIL import ImageDraw, ImageFont\n",
    "from collections import namedtuple, OrderedDict\n",
    "import itertools"
   ]
  },
  {
   "cell_type": "code",
   "execution_count": 35,
   "metadata": {},
   "outputs": [],
   "source": [
    "from session import *\n",
    "from LR_Schedule.cos_anneal import CosAnneal\n",
    "from LR_Schedule.lr_find import lr_find\n",
    "from callbacks import *\n",
    "from validation import *\n",
    "import Datasets.ImageData as ImageData\n",
    "from Transforms.ImageTransforms import *\n",
    "import util"
   ]
  },
  {
   "cell_type": "code",
   "execution_count": 36,
   "metadata": {},
   "outputs": [
    {
     "name": "stdout",
     "output_type": "stream",
     "text": [
      "The autoreload extension is already loaded. To reload it, use:\n",
      "  %reload_ext autoreload\n"
     ]
    }
   ],
   "source": [
    "%load_ext autoreload\n",
    "%autoreload 2"
   ]
  },
  {
   "cell_type": "code",
   "execution_count": 37,
   "metadata": {},
   "outputs": [],
   "source": [
    "torch.backends.cudnn.benchmark=True"
   ]
  },
  {
   "cell_type": "code",
   "execution_count": 54,
   "metadata": {},
   "outputs": [
    {
     "data": {
      "text/plain": [
       "8"
      ]
     },
     "execution_count": 54,
     "metadata": {},
     "output_type": "execute_result"
    }
   ],
   "source": [
    "DATA_PATH = Path('C:/fastai/courses/dl2/data/road_damage_dataset')\n",
    "MULTICLASS_CSV_PATH = DATA_PATH/'mc.csv'\n",
    "MULTIBB_CSV_PATH = DATA_PATH/'bb.csv'\n",
    "files, mcs = ImageData.parse_csv_data(MULTICLASS_CSV_PATH)\n",
    "files, mbbs = ImageData.parse_csv_data(MULTIBB_CSV_PATH)\n",
    "mcs = [mc.split(' ') for mc in mcs]\n",
    "classes = sorted(list(set(itertools.chain.from_iterable(mcs))))\n",
    "label2idx = {v:k+1 for k,v in enumerate(classes)}\n",
    "label2idx[\"bg\"] = 0\n",
    "mcs = [[label2idx[c] for c in mc] for mc in mcs]\n",
    "mbbs = [corners_to_center([int(x) for x in mbb.split(' ')]).tolist() for mbb in mbbs]\n",
    "\n",
    "max_len = max([len(mc) for mc in mcs])\n",
    "\n",
    "for mc, mb in zip(mcs, mbbs):\n",
    "    mc += ([0] * (max_len - len(mc)))\n",
    "    mb += ([0] * (max_len * 4 - len(mb)))\n",
    "    \n",
    "    mc = np.array(mc)\n",
    "    mb = np.array(mb)\n",
    "    \n",
    "max_len"
   ]
  },
  {
   "cell_type": "code",
   "execution_count": 39,
   "metadata": {},
   "outputs": [],
   "source": [
    "imsize = 224\n",
    "batch_size = 8\n",
    "num_classes = 8\n",
    "\n",
    "files = [DATA_PATH/file for file in files]\n",
    "labels = [md.StructuredLabel([(cat, md.LabelType.CATEGORY, \"CAT\"), (bb, md.LabelType.BOUNDING_BOX, \"BB\")]) for bb, cat in zip(mbbs, mcs)]\n",
    "\n",
    "train_tfms = TransformList([\n",
    "    RandomScale(imsize, 1.1),\n",
    "    RandomCrop(imsize),\n",
    "    RandomHorizontalFlip(),\n",
    "    transforms.ToTensor(),\n",
    "    transforms.Normalize([0.485, 0.456, 0.406], [0.229, 0.224, 0.225])\n",
    "])\n",
    "\n",
    "val_tfms = TransformList([\n",
    "    Scale(imsize),\n",
    "    transforms.ToTensor(),\n",
    "    transforms.Normalize([0.485, 0.456, 0.406], [0.229, 0.224, 0.225])\n",
    "])\n",
    "\n",
    "i_dict = md.make_partition_indices(len(labels), {'train': .85, 'valid': .15})\n",
    "\n",
    "datasets = {\n",
    "    'train': ImageData.ImageDataset(util.mask(files, i_dict['train']), util.mask(labels, i_dict['train']), train_tfms),\n",
    "    'valid': ImageData.ImageDataset(util.mask(files, i_dict['valid']), util.mask(labels, i_dict['valid']), val_tfms)\n",
    "}  \n",
    "\n",
    "data = md.ModelData(datasets, batch_size)"
   ]
  },
  {
   "cell_type": "code",
   "execution_count": 40,
   "metadata": {},
   "outputs": [],
   "source": [
    "class StdConv(nn.Module):\n",
    "    def __init__(self, n_in, n_out, stride=2, drop_p=0.1):\n",
    "        super().__init__()\n",
    "        self.conv = nn.Conv2d(n_in, n_out, 3, stride=stride, padding=1)\n",
    "        self.relu = nn.ReLU(inplace=True)\n",
    "        self.batch_norm = nn.BatchNorm2d(n_out)\n",
    "        self.dropout = nn.Dropout(drop_p)\n",
    "        \n",
    "    def forward(self, x):\n",
    "        return self.dropout(self.batch_norm(self.relu(self.conv(x))))"
   ]
  },
  {
   "cell_type": "code",
   "execution_count": 41,
   "metadata": {},
   "outputs": [],
   "source": [
    "def flatten_conv(x,k=1):\n",
    "    bs,nf,gx,gy = x.size()\n",
    "    x = x.permute(0,2,3,1).contiguous()\n",
    "    return x.view(bs,-1,nf//k)\n",
    "\n",
    "class SSDOut(nn.Module):\n",
    "    def __init__(self, n_in):\n",
    "        super().__init__()\n",
    "        self.out_classes = nn.Conv2d(n_in, num_classes + 1, 3, padding=1) # Output for each class + background class\n",
    "        self.out_boxes = nn.Conv2d(n_in, 4, 3, padding=1) # Output for bounding boxes\n",
    "        \n",
    "    def forward(self, x):\n",
    "        return [flatten_conv(self.out_classes(x)), F.tanh(flatten_conv(self.out_boxes(x)))]\n",
    "\n",
    "class SSDHead(nn.Module):\n",
    "    def __init__(self):\n",
    "        super().__init__()\n",
    "        self.dropout = nn.Dropout(0.1)\n",
    "        self.conv_0 = StdConv(512, 256, stride=1)\n",
    "        self.conv_1 = StdConv(256, 256)\n",
    "        self.out = SSDOut(256)\n",
    "        \n",
    "    def forward(self, x):\n",
    "        x = self.dropout(F.relu(x))\n",
    "        x = self.conv_0(x)\n",
    "        x = self.conv_1(x)\n",
    "        return self.out(x)\n",
    "        "
   ]
  },
  {
   "cell_type": "code",
   "execution_count": 42,
   "metadata": {},
   "outputs": [],
   "source": [
    "model_ft = models.resnet18(pretrained=True)\n",
    "layers = list(model_ft.children())[0:-2]\n",
    "layers += [SSDHead()]\n",
    "model = nn.Sequential(*list(layers))"
   ]
  },
  {
   "cell_type": "code",
   "execution_count": 43,
   "metadata": {},
   "outputs": [],
   "source": [
    "x,y,*_ = next(iter(data['valid']))\n",
    "x = Variable(x)"
   ]
  },
  {
   "cell_type": "code",
   "execution_count": 44,
   "metadata": {},
   "outputs": [
    {
     "data": {
      "text/plain": [
       "{'CAT': \n",
       "     7     0     0     0     0     0     0     0\n",
       "     2     0     0     0     0     0     0     0\n",
       "     7     0     0     0     0     0     0     0\n",
       "     5     0     0     0     0     0     0     0\n",
       "     8     3     5     0     0     0     0     0\n",
       "     8     5     8     0     0     0     0     0\n",
       "     8     0     0     0     0     0     0     0\n",
       "     8     4     2     0     0     0     0     0\n",
       " [torch.IntTensor of size 8x8], 'BB': \n",
       " \n",
       " Columns 0 to 7 \n",
       "  113.0000  193.5000  220.0000   37.0000    0.0000    0.0000    0.0000    0.0000\n",
       "  141.0000  179.5000  136.0000   89.0000    0.0000    0.0000    0.0000    0.0000\n",
       "  130.5000  192.0000  187.0000   26.0000    0.0000    0.0000    0.0000    0.0000\n",
       "   69.0000  181.0000  132.0000   64.0000    0.0000    0.0000    0.0000    0.0000\n",
       "  169.0000  169.5000  110.0000  109.0000  124.0000  198.5000  178.0000   33.0000\n",
       "   39.0000  125.0000   60.0000   50.0000  107.5000  154.5000  215.0000   91.0000\n",
       "   23.5000  153.0000   47.0000   54.0000    0.0000    0.0000    0.0000    0.0000\n",
       "   71.5000  185.5000  119.0000   59.0000  109.0000  170.5000  218.0000   47.0000\n",
       " \n",
       " Columns 8 to 15 \n",
       "    0.0000    0.0000    0.0000    0.0000    0.0000    0.0000    0.0000    0.0000\n",
       "    0.0000    0.0000    0.0000    0.0000    0.0000    0.0000    0.0000    0.0000\n",
       "    0.0000    0.0000    0.0000    0.0000    0.0000    0.0000    0.0000    0.0000\n",
       "    0.0000    0.0000    0.0000    0.0000    0.0000    0.0000    0.0000    0.0000\n",
       "   38.5000  180.5000   77.0000   87.0000    0.0000    0.0000    0.0000    0.0000\n",
       "  142.0000  165.5000   48.0000   71.0000    0.0000    0.0000    0.0000    0.0000\n",
       "    0.0000    0.0000    0.0000    0.0000    0.0000    0.0000    0.0000    0.0000\n",
       "  182.0000  146.0000   54.0000   82.0000    0.0000    0.0000    0.0000    0.0000\n",
       " \n",
       " Columns 16 to 23 \n",
       "    0.0000    0.0000    0.0000    0.0000    0.0000    0.0000    0.0000    0.0000\n",
       "    0.0000    0.0000    0.0000    0.0000    0.0000    0.0000    0.0000    0.0000\n",
       "    0.0000    0.0000    0.0000    0.0000    0.0000    0.0000    0.0000    0.0000\n",
       "    0.0000    0.0000    0.0000    0.0000    0.0000    0.0000    0.0000    0.0000\n",
       "    0.0000    0.0000    0.0000    0.0000    0.0000    0.0000    0.0000    0.0000\n",
       "    0.0000    0.0000    0.0000    0.0000    0.0000    0.0000    0.0000    0.0000\n",
       "    0.0000    0.0000    0.0000    0.0000    0.0000    0.0000    0.0000    0.0000\n",
       "    0.0000    0.0000    0.0000    0.0000    0.0000    0.0000    0.0000    0.0000\n",
       " \n",
       " Columns 24 to 31 \n",
       "    0.0000    0.0000    0.0000    0.0000    0.0000    0.0000    0.0000    0.0000\n",
       "    0.0000    0.0000    0.0000    0.0000    0.0000    0.0000    0.0000    0.0000\n",
       "    0.0000    0.0000    0.0000    0.0000    0.0000    0.0000    0.0000    0.0000\n",
       "    0.0000    0.0000    0.0000    0.0000    0.0000    0.0000    0.0000    0.0000\n",
       "    0.0000    0.0000    0.0000    0.0000    0.0000    0.0000    0.0000    0.0000\n",
       "    0.0000    0.0000    0.0000    0.0000    0.0000    0.0000    0.0000    0.0000\n",
       "    0.0000    0.0000    0.0000    0.0000    0.0000    0.0000    0.0000    0.0000\n",
       "    0.0000    0.0000    0.0000    0.0000    0.0000    0.0000    0.0000    0.0000\n",
       " [torch.DoubleTensor of size 8x32]}"
      ]
     },
     "execution_count": 44,
     "metadata": {},
     "output_type": "execute_result"
    }
   ],
   "source": [
    "y"
   ]
  },
  {
   "cell_type": "code",
   "execution_count": 45,
   "metadata": {},
   "outputs": [
    {
     "data": {
      "text/plain": [
       "[Variable containing:\n",
       " (0 ,.,.) = \n",
       "   1.1491e-01 -1.7056e-01 -1.2898e-02  ...   1.5639e-01 -9.0245e-02 -2.4581e-01\n",
       "  -9.7925e-02 -2.2700e-01  6.1498e-02  ...  -3.3599e-01 -2.4547e-02  1.0121e-01\n",
       "   6.3955e-02 -6.4835e-02 -2.2286e-01  ...  -4.1383e-02  2.0595e-01  2.2887e-02\n",
       "                  ...                   ⋱                   ...                \n",
       "  -4.6862e-02  4.7398e-01  2.2948e-01  ...  -2.4868e-01  5.5160e-01  1.7663e-02\n",
       "   6.1622e-01 -2.6256e-01  2.8161e-01  ...  -6.7324e-03  3.2989e-01 -1.0051e-01\n",
       "  -6.6927e-02  2.8130e-01  3.7122e-01  ...   3.7514e-02  3.1733e-01  2.7358e-01\n",
       " \n",
       " (1 ,.,.) = \n",
       "  -3.6118e-01  2.6770e-01 -8.5670e-04  ...  -9.9842e-02 -2.1302e-01  4.2085e-03\n",
       "  -4.0017e-01  1.1958e-01  2.2424e-01  ...  -1.5131e-01 -8.4564e-02 -9.8453e-03\n",
       "   2.5993e-01 -2.0530e-02  2.1333e-01  ...  -2.0968e-01 -3.8651e-01  2.4892e-01\n",
       "                  ...                   ⋱                   ...                \n",
       "   1.9604e-01  3.8084e-01  4.0305e-02  ...   1.2834e-01 -8.6425e-02  1.0991e-01\n",
       "  -8.3643e-02  4.5148e-02  1.1911e-02  ...   2.4345e-01  2.8646e-01  5.1206e-02\n",
       "  -6.1265e-02  3.6372e-01  3.5735e-01  ...   3.7760e-01  2.8479e-01  2.3686e-01\n",
       " \n",
       " (2 ,.,.) = \n",
       "  -2.3611e-02  1.5143e-01  2.6152e-01  ...  -1.0965e-02  3.9493e-02 -1.2351e-01\n",
       "   6.7706e-01  6.4854e-01  1.4625e-01  ...  -1.1991e-01  1.9858e-01 -4.8212e-01\n",
       "  -2.8664e-01 -1.5947e-01  3.7335e-01  ...  -7.0082e-01  2.5296e-03 -9.1758e-02\n",
       "                  ...                   ⋱                   ...                \n",
       "   2.3095e-01  7.6637e-03  5.1208e-01  ...   1.5087e-01  5.0625e-01  1.3702e-01\n",
       "   3.2513e-01  2.3949e-01 -9.0420e-02  ...   2.1909e-01  1.9873e-01 -2.5420e-02\n",
       "  -2.5219e-01  5.3360e-01  5.6677e-02  ...   8.8040e-02  4.5640e-01  4.5278e-02\n",
       " ...\n",
       " \n",
       " (5 ,.,.) = \n",
       "   4.0191e-02  1.1690e-01  2.1620e-01  ...  -3.8981e-01 -3.9370e-03  6.3132e-01\n",
       "   2.5607e-01  8.1419e-02 -2.3704e-02  ...  -4.7385e-01  2.6532e-01  5.0591e-02\n",
       "   3.5954e-01  1.7474e-01  1.5430e-01  ...  -8.6739e-02  3.5084e-02 -1.1385e-01\n",
       "                  ...                   ⋱                   ...                \n",
       "   7.9054e-02  3.6672e-01  2.2398e-01  ...  -2.1074e-01 -7.3203e-02 -4.2496e-02\n",
       "  -4.8014e-01  2.8779e-03 -2.1406e-01  ...  -2.8930e-01  9.9607e-02 -1.4662e-01\n",
       "  -5.6335e-01  3.2967e-01  3.0505e-02  ...   1.7392e-01 -5.1090e-02  1.3646e-02\n",
       " \n",
       " (6 ,.,.) = \n",
       "  -6.7865e-02  1.5219e-02  2.3213e-01  ...  -1.6847e-01  1.1589e-01 -5.0192e-02\n",
       "   2.4745e-01  1.8658e-01  7.5173e-01  ...   1.6438e-01 -2.0651e-01  1.6610e-01\n",
       "  -2.6314e-01  5.4874e-02 -3.1467e-01  ...   2.3651e-01  2.8334e-01 -2.1388e-01\n",
       "                  ...                   ⋱                   ...                \n",
       "  -2.3465e-01 -3.4275e-01  2.0638e-01  ...  -4.4954e-01  1.8920e-02  6.0478e-02\n",
       "  -2.3957e-02  2.3433e-02 -1.8176e-01  ...  -2.5382e-01 -2.7190e-01  1.1117e-01\n",
       "  -4.1254e-01 -1.2745e-01 -4.9520e-01  ...   1.5092e-01  1.5465e-01  2.7840e-01\n",
       " \n",
       " (7 ,.,.) = \n",
       "  -1.6454e-01 -2.3366e-01  4.5240e-03  ...   2.8674e-01  4.0963e-02 -1.7279e-01\n",
       "  -5.0127e-02 -2.3434e-01  9.4649e-02  ...   3.9640e-01 -6.0053e-01 -1.3431e-01\n",
       "  -2.5602e-02  1.8686e-01  3.8952e-01  ...   6.1424e-01 -1.2989e-02 -9.3908e-02\n",
       "                  ...                   ⋱                   ...                \n",
       "   2.4067e-01 -4.8222e-01  1.6785e-01  ...  -8.0314e-02 -4.0443e-01  7.8208e-03\n",
       "   5.2381e-01 -5.3601e-01  9.8724e-02  ...  -2.0967e-01 -8.5829e-02 -2.0352e-02\n",
       "  -1.4374e-01 -1.2724e-01  2.1573e-02  ...   9.1247e-02 -5.8330e-03  3.6227e-01\n",
       " [torch.FloatTensor of size 8x16x9], Variable containing:\n",
       " (0 ,.,.) = \n",
       "   0.1503  0.0137 -0.1114 -0.0709\n",
       "   0.2973 -0.3801 -0.4010  0.0767\n",
       "  -0.2094 -0.1906  0.0086  0.5788\n",
       "  -0.0344  0.0792  0.2798  0.1355\n",
       "   0.0419 -0.1521  0.3346 -0.0880\n",
       "   0.4711  0.2392 -0.3361 -0.0946\n",
       "   0.3677  0.2126 -0.3565 -0.2971\n",
       "  -0.3673  0.1729  0.4316  0.0834\n",
       "   0.2039  0.3950  0.0699 -0.0409\n",
       "   0.1189  0.2316  0.3389  0.3647\n",
       "  -0.5353 -0.4622 -0.0618 -0.4923\n",
       "   0.0558  0.1285  0.0766 -0.1479\n",
       "  -0.1661  0.1611  0.1589 -0.4221\n",
       "  -0.4187 -0.2611 -0.2924 -0.2113\n",
       "  -0.0009  0.3526 -0.3757 -0.1550\n",
       "  -0.2424  0.1136 -0.3062  0.1664\n",
       " \n",
       " (1 ,.,.) = \n",
       "  -0.3076  0.0660  0.1363  0.1702\n",
       "  -0.3721 -0.2898  0.1846  0.5771\n",
       "  -0.2891 -0.2525  0.4195  0.3598\n",
       "  -0.2455 -0.4223  0.0926  0.0282\n",
       "   0.0305 -0.0401  0.0423 -0.1397\n",
       "  -0.6132  0.4392 -0.1522 -0.1862\n",
       "  -0.4620 -0.1394 -0.4699  0.1029\n",
       "  -0.0058 -0.2656  0.0857  0.2361\n",
       "  -0.3443 -0.1560  0.1003  0.0198\n",
       "  -0.3837 -0.6314  0.3541 -0.4369\n",
       "  -0.0326  0.1986 -0.2207  0.2143\n",
       "  -0.0533  0.0419 -0.0283 -0.3311\n",
       "   0.1442  0.0730  0.2879  0.1988\n",
       "   0.3476  0.3576  0.0690  0.2145\n",
       "  -0.5785  0.2591 -0.0062 -0.3038\n",
       "  -0.2494  0.1872 -0.1365 -0.3857\n",
       " \n",
       " (2 ,.,.) = \n",
       "  -0.1588 -0.0923  0.0369  0.2109\n",
       "   0.2228  0.3629  0.0528  0.0610\n",
       "  -0.0997  0.1465 -0.0843  0.2651\n",
       "  -0.2473 -0.4077  0.4138  0.3133\n",
       "  -0.1495  0.5758 -0.2431  0.2695\n",
       "  -0.1928 -0.1696 -0.6008  0.0168\n",
       "   0.0047 -0.1001 -0.7574 -0.1244\n",
       "  -0.0677  0.2757  0.0561 -0.0597\n",
       "   0.4319  0.1066  0.1745  0.1461\n",
       "   0.7935 -0.0476 -0.0278 -0.4681\n",
       "   0.2109  0.3316 -0.7410  0.3431\n",
       "   0.4793  0.2304 -0.5886  0.2798\n",
       "   0.1942 -0.0041 -0.3797  0.1333\n",
       "   0.6204 -0.1543 -0.4312  0.1241\n",
       "  -0.0001  0.1045 -0.1520  0.1940\n",
       "  -0.0561 -0.1426 -0.1541  0.1924\n",
       " \n",
       " (3 ,.,.) = \n",
       "  -0.0362 -0.0735  0.2404  0.2884\n",
       "   0.2821  0.3395  0.5207  0.2543\n",
       "   0.3459  0.0057  0.3614  0.3525\n",
       "   0.4358 -0.4161  0.1179  0.3883\n",
       "  -0.3071  0.0271  0.0803 -0.1816\n",
       "   0.1370 -0.4301  0.3668  0.1212\n",
       "   0.1353 -0.2566  0.3790 -0.2782\n",
       "  -0.1305 -0.0793  0.2685  0.0205\n",
       "  -0.2009 -0.2089 -0.0333 -0.1789\n",
       "  -0.0488  0.2383  0.3569 -0.3050\n",
       "  -0.1837  0.3704  0.1058 -0.4533\n",
       "  -0.0126 -0.2820 -0.0617  0.0935\n",
       "  -0.1855  0.1615  0.1513  0.5455\n",
       "  -0.3157 -0.0088  0.4170  0.3812\n",
       "   0.1250  0.0053 -0.0515  0.1721\n",
       "   0.0010 -0.2275 -0.0782  0.0875\n",
       " \n",
       " (4 ,.,.) = \n",
       "  -0.4631  0.0881 -0.0970 -0.6704\n",
       "  -0.0289  0.0297  0.1635 -0.2894\n",
       "  -0.1297 -0.1740 -0.1030  0.3623\n",
       "  -0.2342 -0.3537  0.2985  0.2983\n",
       "  -0.1000 -0.5540 -0.1638 -0.1119\n",
       "   0.2905 -0.3904 -0.5544  0.0341\n",
       "   0.2016  0.1352  0.1683 -0.3095\n",
       "   0.2413 -0.3773 -0.4128  0.0729\n",
       "  -0.0059 -0.4983 -0.1628 -0.3116\n",
       "   0.2046 -0.2296 -0.4338 -0.2110\n",
       "  -0.0235  0.0105 -0.6731  0.1434\n",
       "   0.3189 -0.4666 -0.3535 -0.1348\n",
       "   0.2899 -0.1048 -0.0181 -0.2945\n",
       "  -0.1800  0.0611  0.0619 -0.1710\n",
       "  -0.3624  0.1913  0.1384  0.6073\n",
       "  -0.0252 -0.2858 -0.2061  0.3311\n",
       " \n",
       " (5 ,.,.) = \n",
       "   0.1589 -0.1865 -0.0997  0.3210\n",
       "   0.0090  0.1824 -0.1312 -0.1430\n",
       "  -0.4999  0.0144  0.1687  0.0707\n",
       "  -0.0317  0.0874  0.0262 -0.0513\n",
       "   0.1494 -0.3165  0.1743  0.2845\n",
       "   0.1453  0.7321 -0.4077 -0.3137\n",
       "  -0.2031  0.5091 -0.1521 -0.2366\n",
       "  -0.2160  0.4581  0.0475  0.1064\n",
       "  -0.2261 -0.1837 -0.2390  0.1303\n",
       "  -0.0420 -0.0426 -0.1191  0.2042\n",
       "   0.3238  0.2642 -0.3772 -0.1180\n",
       "   0.0669  0.2182 -0.0867 -0.0168\n",
       "  -0.1015  0.0934 -0.1588  0.0732\n",
       "   0.1192 -0.4490  0.0965 -0.0686\n",
       "  -0.1559 -0.0866  0.2294  0.2551\n",
       "  -0.0303 -0.1480  0.1597  0.3463\n",
       " \n",
       " (6 ,.,.) = \n",
       "   0.0481  0.3360 -0.0762 -0.4812\n",
       "  -0.2605  0.1389  0.0200  0.4192\n",
       "   0.2023  0.4125  0.2115  0.0518\n",
       "  -0.0935  0.1837 -0.1116 -0.1733\n",
       "  -0.1918 -0.1366 -0.2458 -0.1157\n",
       "  -0.4269 -0.0785  0.0268 -0.2454\n",
       "   0.4106  0.4539 -0.1678 -0.0587\n",
       "  -0.1449  0.2356  0.0134 -0.3677\n",
       "  -0.1545 -0.3543  0.1675 -0.4124\n",
       "   0.3222 -0.1109 -0.3944  0.0682\n",
       "   0.1894 -0.4042 -0.4264 -0.0237\n",
       "   0.1354 -0.3894 -0.2699  0.1270\n",
       "   0.1507 -0.1311  0.2809 -0.1820\n",
       "   0.3237  0.0044  0.1211 -0.3889\n",
       "  -0.3907 -0.3750  0.1837 -0.0432\n",
       "  -0.0378 -0.2487 -0.0093  0.4956\n",
       " \n",
       " (7 ,.,.) = \n",
       "   0.4564 -0.3330  0.2558 -0.2468\n",
       "  -0.4423 -0.4394 -0.4039  0.1398\n",
       "  -0.2511  0.4127  0.1601  0.2090\n",
       "   0.0793 -0.0174 -0.0441  0.3092\n",
       "  -0.3163 -0.2294  0.2914 -0.1065\n",
       "   0.4577 -0.2203 -0.5663  0.0379\n",
       "   0.2425 -0.2970  0.0419 -0.1807\n",
       "   0.0559 -0.5821 -0.1902 -0.1183\n",
       "  -0.3122 -0.2489 -0.0649 -0.0073\n",
       "  -0.1061 -0.2244 -0.3714  0.3620\n",
       "  -0.1157  0.2382  0.1357 -0.2145\n",
       "  -0.2334  0.6163 -0.3738  0.1783\n",
       "  -0.0199 -0.3444  0.2496 -0.3438\n",
       "   0.0809 -0.2045  0.3307 -0.2196\n",
       "   0.2654  0.0799  0.0367  0.3648\n",
       "  -0.1508  0.3965 -0.3729  0.0257\n",
       " [torch.FloatTensor of size 8x16x4]]"
      ]
     },
     "execution_count": 45,
     "metadata": {},
     "output_type": "execute_result"
    }
   ],
   "source": [
    "model(x)"
   ]
  },
  {
   "cell_type": "code",
   "execution_count": 46,
   "metadata": {},
   "outputs": [],
   "source": [
    "anc_grid = 4\n",
    "k = 1\n",
    "\n",
    "anc_offset = 1/(anc_grid*2)\n",
    "anc_x = np.repeat(np.linspace(anc_offset, 1-anc_offset, anc_grid), anc_grid)\n",
    "anc_y = np.tile(np.linspace(anc_offset, 1-anc_offset, anc_grid), anc_grid)\n",
    "\n",
    "anc_ctrs = np.tile(np.stack([anc_x,anc_y], axis=1), (k,1))\n",
    "anc_sizes = np.array([[1/anc_grid,1/anc_grid] for i in range(anc_grid*anc_grid)])\n",
    "anchors = util.to_gpu(Variable(torch.from_numpy(np.concatenate([anc_ctrs, anc_sizes], axis=1))).float())\n",
    "\n",
    "grid_sizes = util.to_gpu(Variable(torch.from_numpy(np.array([1/anc_grid]))).unsqueeze(1).float())"
   ]
  },
  {
   "cell_type": "code",
   "execution_count": 47,
   "metadata": {},
   "outputs": [],
   "source": [
    "def one_hot_embedding(labels, num_classes):\n",
    "    return torch.eye(num_classes)[labels.data.long().cpu()]\n",
    "\n",
    "class BCE_Loss(nn.Module):\n",
    "    def __init__(self, num_classes):\n",
    "        super().__init__()\n",
    "        self.num_classes = num_classes\n",
    "\n",
    "    def forward(self, pred, targ):\n",
    "        t = one_hot_embedding(targ, self.num_classes+1)\n",
    "        t = util.to_gpu(Variable(t[:,1:].contiguous()))\n",
    "        x = pred[:,1:]\n",
    "        w = self.get_weight(x,t)\n",
    "        return F.binary_cross_entropy_with_logits(x, t, w, size_average=False)/self.num_classes\n",
    "    \n",
    "    def get_weight(self,x,t): return None\n",
    "\n",
    "loss_f = BCE_Loss(num_classes)"
   ]
  },
  {
   "cell_type": "code",
   "execution_count": 48,
   "metadata": {},
   "outputs": [],
   "source": [
    "def hw2corners(ctr, hw): return torch.cat([ctr-hw/2, ctr+hw/2], dim=1)\n",
    "\n",
    "def intersect(box_a, box_b):\n",
    "    corn_a = hw2corners(box_a[:,2:], box_a[:, :2])\n",
    "    corn_b = hw2corners(box_b[:,2:], box_b[:, :2])\n",
    "    max_xy = torch.min(corn_a[:, None, 2:], corn_b[None, :, 2:])\n",
    "    min_xy = torch.max(corn_a[:, None, :2], corn_b[None, :, :2])\n",
    "    inter = torch.clamp((max_xy - min_xy), min=0)\n",
    "    return inter[:, :, 0] * inter[:, :, 1]\n",
    "\n",
    "def box_sz(b): return (b[:, 2] * b[:, 3])\n",
    "\n",
    "def jaccard(box_a, box_b):\n",
    "    inter = intersect(box_a, box_b)\n",
    "    union = box_sz(box_a).unsqueeze(1) + box_sz(box_b).unsqueeze(0) - inter\n",
    "    return inter / union"
   ]
  },
  {
   "cell_type": "code",
   "execution_count": 49,
   "metadata": {},
   "outputs": [],
   "source": [
    "def get_y(bbox, clas):\n",
    "    bbox = (bbox.view(-1,4)/imsize).float()\n",
    "    keep_idx = clas.nonzero()[:,0]\n",
    "    return bbox[keep_idx],clas[keep_idx]\n",
    "\n",
    "def actn_to_bb(actn_bbs, anchors):\n",
    "    delta_center = actn_bbs[:,:2] / 2 * grid_sizes # On the range (-grid_size / 2, grid_size / 2)\n",
    "    percent_sizes = actn_bbs[:,2:] / 2 + 1 # On the range (0, 1). Add 1 since actn_bbs is on the range (-1, 1)\n",
    "    actn_centers = delta_center + anchors[:,:2]  # Find Centers\n",
    "    actn_wh = percent_sizes * anchors[:,2:]  # Find width and heights\n",
    "    return torch.cat([actn_centers, actn_wh], dim=1)\n",
    "\n",
    "def map_to_ground_truth(overlaps, print_it=False):\n",
    "    prior_overlap, prior_idx = overlaps.max(1)\n",
    "    if print_it: print(prior_overlap)\n",
    "#     pdb.set_trace()\n",
    "    gt_overlap, gt_idx = overlaps.max(0)\n",
    "    gt_overlap[prior_idx] = 1.99\n",
    "    for i,o in enumerate(prior_idx): gt_idx[o] = i\n",
    "    return gt_overlap,gt_idx\n",
    "\n",
    "def ssd_1_loss(b_c,b_bb,bbox,clas,print_it=False):\n",
    "    bbox,clas = get_y(bbox,clas)\n",
    "    a_ic = actn_to_bb(b_bb, anchors)\n",
    "    overlaps = jaccard(bbox.data, anchors.data)\n",
    "    gt_overlap,gt_idx = map_to_ground_truth(overlaps,print_it)\n",
    "    gt_clas = clas[gt_idx]\n",
    "    pos = gt_overlap > 0.4\n",
    "    pos_idx = torch.nonzero(pos)[:,0]\n",
    "    gt_clas[1-pos] = 0\n",
    "    gt_bbox = bbox[gt_idx]\n",
    "    loc_loss = ((a_ic[pos_idx] - gt_bbox[pos_idx]).abs()).mean()\n",
    "    clas_loss  = loss_f(b_c, gt_clas)\n",
    "    return loc_loss, clas_loss\n",
    "\n",
    "def ssd_loss(preds,targs,print_it=False):\n",
    "    lcs,lls = 0.,0.\n",
    "    for b_c,b_bb,clas,bbox in zip(*preds, targs[\"CAT\"], targs[\"BB\"]):\n",
    "        loc_loss,clas_loss = ssd_1_loss(b_c,b_bb,bbox,clas,print_it)\n",
    "        lls += loc_loss\n",
    "        lcs += clas_loss\n",
    "    if print_it: print(f'loc: {lls.data[0]}, clas: {lcs.data[0]}')\n",
    "    return lls+lcs"
   ]
  },
  {
   "cell_type": "code",
   "execution_count": 50,
   "metadata": {},
   "outputs": [],
   "source": [
    "criterion = ssd_loss\n",
    "optim_fn = optim.Adam\n",
    "sess = Session(model, criterion, optim_fn, [*[1e-3] * 8, 1e-2])"
   ]
  },
  {
   "cell_type": "code",
   "execution_count": 51,
   "metadata": {},
   "outputs": [],
   "source": [
    "x,y,*_ = next(iter(data['valid']))"
   ]
  },
  {
   "cell_type": "code",
   "execution_count": 52,
   "metadata": {},
   "outputs": [
    {
     "data": {
      "text/plain": [
       "91.8250732421875"
      ]
     },
     "execution_count": 52,
     "metadata": {},
     "output_type": "execute_result"
    }
   ],
   "source": [
    "sess.step(x, y)"
   ]
  },
  {
   "cell_type": "code",
   "execution_count": 55,
   "metadata": {},
   "outputs": [
    {
     "data": {
      "application/vnd.jupyter.widget-view+json": {
       "model_id": "3c887c4a569b4d0b8e6187add0073236",
       "version_major": 2,
       "version_minor": 0
      },
      "text/plain": [
       "HBox(children=(IntProgress(value=0, description='Epochs', max=1), HTML(value='')))"
      ]
     },
     "metadata": {},
     "output_type": "display_data"
    },
    {
     "data": {
      "application/vnd.jupyter.widget-view+json": {
       "model_id": "2ba9db6aaa1c42729264b7c6a85405cd",
       "version_major": 2,
       "version_minor": 0
      },
      "text/plain": [
       "HBox(children=(IntProgress(value=0, description='Steps', max=868), HTML(value='')))"
      ]
     },
     "metadata": {},
     "output_type": "display_data"
    },
    {
     "data": {
      "image/png": "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\n",
      "text/plain": [
       "<Figure size 432x288 with 2 Axes>"
      ]
     },
     "metadata": {},
     "output_type": "display_data"
    }
   ],
   "source": [
    "lr_find(sess, data['train'], start_lr=1e-7)"
   ]
  },
  {
   "cell_type": "code",
   "execution_count": 56,
   "metadata": {},
   "outputs": [],
   "source": [
    "sess.set_lr([*[7e-5 / 100] * 8, 7e-5])"
   ]
  },
  {
   "cell_type": "code",
   "execution_count": 60,
   "metadata": {},
   "outputs": [
    {
     "data": {
      "application/vnd.jupyter.widget-view+json": {
       "model_id": "75341325b4f14240af20645be5a1fd84",
       "version_major": 2,
       "version_minor": 0
      },
      "text/plain": [
       "HBox(children=(IntProgress(value=0, description='Epochs', max=7), HTML(value='')))"
      ]
     },
     "metadata": {},
     "output_type": "display_data"
    },
    {
     "data": {
      "application/vnd.jupyter.widget-view+json": {
       "model_id": "",
       "version_major": 2,
       "version_minor": 0
      },
      "text/plain": [
       "HBox(children=(IntProgress(value=0, description='Steps', max=9), HTML(value='')))"
      ]
     },
     "metadata": {},
     "output_type": "display_data"
    },
    {
     "data": {
      "application/vnd.jupyter.widget-view+json": {
       "model_id": "bfb62212dba44311927f8302147e4e61",
       "version_major": 2,
       "version_minor": 0
      },
      "text/plain": [
       "HBox(children=(IntProgress(value=0, description='Validating', max=9), HTML(value='')))"
      ]
     },
     "metadata": {},
     "output_type": "display_data"
    },
    {
     "name": "stdout",
     "output_type": "stream",
     "text": [
      "Training Loss: 22.035258  Validaton Loss: 21.696829 Validation Accuracy: 0.000000\n"
     ]
    },
    {
     "data": {
      "application/vnd.jupyter.widget-view+json": {
       "model_id": "e9fb7728a0c14cf88fe745cc19ff5c89",
       "version_major": 2,
       "version_minor": 0
      },
      "text/plain": [
       "HBox(children=(IntProgress(value=0, description='Steps', max=9), HTML(value='')))"
      ]
     },
     "metadata": {},
     "output_type": "display_data"
    },
    {
     "ename": "KeyboardInterrupt",
     "evalue": "",
     "output_type": "error",
     "traceback": [
      "\u001b[1;31m---------------------------------------------------------------------------\u001b[0m",
      "\u001b[1;31mKeyboardInterrupt\u001b[0m                         Traceback (most recent call last)",
      "\u001b[1;32m<ipython-input-60-897fb6c990a2>\u001b[0m in \u001b[0;36m<module>\u001b[1;34m()\u001b[0m\n\u001b[0;32m      3\u001b[0m \u001b[0mschedule\u001b[0m \u001b[1;33m=\u001b[0m \u001b[0mTrainingSchedule\u001b[0m\u001b[1;33m(\u001b[0m\u001b[0mdata\u001b[0m\u001b[1;33m[\u001b[0m\u001b[1;34m'valid'\u001b[0m\u001b[1;33m]\u001b[0m\u001b[1;33m,\u001b[0m \u001b[1;33m[\u001b[0m\u001b[0mlr_scheduler\u001b[0m\u001b[1;33m,\u001b[0m \u001b[0mvalidator\u001b[0m\u001b[1;33m]\u001b[0m\u001b[1;33m)\u001b[0m\u001b[1;33m\u001b[0m\u001b[0m\n\u001b[0;32m      4\u001b[0m \u001b[1;33m\u001b[0m\u001b[0m\n\u001b[1;32m----> 5\u001b[1;33m \u001b[0msess\u001b[0m\u001b[1;33m.\u001b[0m\u001b[0mtrain\u001b[0m\u001b[1;33m(\u001b[0m\u001b[0mschedule\u001b[0m\u001b[1;33m,\u001b[0m \u001b[1;36m7\u001b[0m\u001b[1;33m)\u001b[0m\u001b[1;33m\u001b[0m\u001b[0m\n\u001b[0m",
      "\u001b[1;32mC:\\deep.lib\\session.py\u001b[0m in \u001b[0;36mtrain\u001b[1;34m(self, schedule, epochs)\u001b[0m\n\u001b[0;32m    138\u001b[0m     \u001b[1;32mdef\u001b[0m \u001b[0mtrain\u001b[0m\u001b[1;33m(\u001b[0m\u001b[0mself\u001b[0m\u001b[1;33m,\u001b[0m \u001b[0mschedule\u001b[0m\u001b[1;33m,\u001b[0m \u001b[0mepochs\u001b[0m\u001b[1;33m)\u001b[0m\u001b[1;33m:\u001b[0m\u001b[1;33m\u001b[0m\u001b[0m\n\u001b[0;32m    139\u001b[0m         \u001b[1;32mwith\u001b[0m \u001b[0mTrainModel\u001b[0m\u001b[1;33m(\u001b[0m\u001b[0mself\u001b[0m\u001b[1;33m.\u001b[0m\u001b[0mmodel\u001b[0m\u001b[1;33m)\u001b[0m\u001b[1;33m:\u001b[0m\u001b[1;33m\u001b[0m\u001b[0m\n\u001b[1;32m--> 140\u001b[1;33m             \u001b[0mself\u001b[0m\u001b[1;33m.\u001b[0m\u001b[0mrun\u001b[0m\u001b[1;33m(\u001b[0m\u001b[0mschedule\u001b[0m\u001b[1;33m,\u001b[0m \u001b[0mepochs\u001b[0m\u001b[1;33m)\u001b[0m\u001b[1;33m\u001b[0m\u001b[0m\n\u001b[0m\u001b[0;32m    141\u001b[0m \u001b[1;33m\u001b[0m\u001b[0m\n\u001b[0;32m    142\u001b[0m     \u001b[1;32mdef\u001b[0m \u001b[0mstop\u001b[0m\u001b[1;33m(\u001b[0m\u001b[0mself\u001b[0m\u001b[1;33m)\u001b[0m\u001b[1;33m:\u001b[0m\u001b[1;33m\u001b[0m\u001b[0m\n",
      "\u001b[1;32mC:\\deep.lib\\session.py\u001b[0m in \u001b[0;36mrun\u001b[1;34m(self, schedule, epochs)\u001b[0m\n\u001b[0;32m    130\u001b[0m                 \u001b[1;32mif\u001b[0m \u001b[1;32mnot\u001b[0m \u001b[0mself\u001b[0m\u001b[1;33m.\u001b[0m\u001b[0mrunning\u001b[0m\u001b[1;33m:\u001b[0m \u001b[1;32mbreak\u001b[0m\u001b[1;33m\u001b[0m\u001b[0m\n\u001b[0;32m    131\u001b[0m                 \u001b[1;32mfor\u001b[0m \u001b[0mcb\u001b[0m \u001b[1;32min\u001b[0m \u001b[0mschedule\u001b[0m\u001b[1;33m.\u001b[0m\u001b[0mcallbacks\u001b[0m\u001b[1;33m:\u001b[0m \u001b[0mcb\u001b[0m\u001b[1;33m.\u001b[0m\u001b[0mon_batch_begin\u001b[0m\u001b[1;33m(\u001b[0m\u001b[0mself\u001b[0m\u001b[1;33m)\u001b[0m\u001b[1;33m\u001b[0m\u001b[0m\n\u001b[1;32m--> 132\u001b[1;33m                 \u001b[0mstep_loss\u001b[0m \u001b[1;33m=\u001b[0m \u001b[0mself\u001b[0m\u001b[1;33m.\u001b[0m\u001b[0mstep\u001b[0m\u001b[1;33m(\u001b[0m\u001b[0minput\u001b[0m\u001b[1;33m,\u001b[0m \u001b[0mlabel\u001b[0m\u001b[1;33m)\u001b[0m\u001b[1;33m\u001b[0m\u001b[0m\n\u001b[0m\u001b[0;32m    133\u001b[0m                 \u001b[0mlossMeter\u001b[0m\u001b[1;33m.\u001b[0m\u001b[0mupdate\u001b[0m\u001b[1;33m(\u001b[0m\u001b[0mstep_loss\u001b[0m\u001b[1;33m,\u001b[0m \u001b[0minput\u001b[0m\u001b[1;33m.\u001b[0m\u001b[0mshape\u001b[0m\u001b[1;33m[\u001b[0m\u001b[1;36m0\u001b[0m\u001b[1;33m]\u001b[0m\u001b[1;33m)\u001b[0m\u001b[1;33m\u001b[0m\u001b[0m\n\u001b[0;32m    134\u001b[0m                 \u001b[1;32mfor\u001b[0m \u001b[0mcb\u001b[0m \u001b[1;32min\u001b[0m \u001b[0mschedule\u001b[0m\u001b[1;33m.\u001b[0m\u001b[0mcallbacks\u001b[0m\u001b[1;33m:\u001b[0m \u001b[0mcb\u001b[0m\u001b[1;33m.\u001b[0m\u001b[0mon_batch_end\u001b[0m\u001b[1;33m(\u001b[0m\u001b[0mself\u001b[0m\u001b[1;33m,\u001b[0m \u001b[0mlossMeter\u001b[0m\u001b[1;33m)\u001b[0m\u001b[1;33m\u001b[0m\u001b[0m\n",
      "\u001b[1;32mC:\\deep.lib\\session.py\u001b[0m in \u001b[0;36mstep\u001b[1;34m(self, input, label)\u001b[0m\n\u001b[0;32m    117\u001b[0m         \u001b[0mloss\u001b[0m\u001b[1;33m.\u001b[0m\u001b[0mbackward\u001b[0m\u001b[1;33m(\u001b[0m\u001b[1;33m)\u001b[0m                                             \u001b[1;31m# Calculate new gradient\u001b[0m\u001b[1;33m\u001b[0m\u001b[0m\n\u001b[0;32m    118\u001b[0m         \u001b[0mself\u001b[0m\u001b[1;33m.\u001b[0m\u001b[0moptimizer\u001b[0m\u001b[1;33m.\u001b[0m\u001b[0mstep\u001b[0m\u001b[1;33m(\u001b[0m\u001b[1;33m)\u001b[0m                                       \u001b[1;31m# Update model parameters\u001b[0m\u001b[1;33m\u001b[0m\u001b[0m\n\u001b[1;32m--> 119\u001b[1;33m         \u001b[1;32mreturn\u001b[0m \u001b[0mloss\u001b[0m\u001b[1;33m.\u001b[0m\u001b[0mdata\u001b[0m\u001b[1;33m.\u001b[0m\u001b[0mtolist\u001b[0m\u001b[1;33m(\u001b[0m\u001b[1;33m)\u001b[0m\u001b[1;33m[\u001b[0m\u001b[1;36m0\u001b[0m\u001b[1;33m]\u001b[0m                                \u001b[1;31m# Return loss value\u001b[0m\u001b[1;33m\u001b[0m\u001b[0m\n\u001b[0m\u001b[0;32m    120\u001b[0m \u001b[1;33m\u001b[0m\u001b[0m\n\u001b[0;32m    121\u001b[0m     \u001b[1;32mdef\u001b[0m \u001b[0mrun\u001b[0m\u001b[1;33m(\u001b[0m\u001b[0mself\u001b[0m\u001b[1;33m,\u001b[0m \u001b[0mschedule\u001b[0m\u001b[1;33m,\u001b[0m \u001b[0mepochs\u001b[0m\u001b[1;33m)\u001b[0m\u001b[1;33m:\u001b[0m\u001b[1;33m\u001b[0m\u001b[0m\n",
      "\u001b[1;32m~\\AppData\\Local\\conda\\conda\\envs\\fastai\\lib\\site-packages\\torch\\tensor.py\u001b[0m in \u001b[0;36mtolist\u001b[1;34m(self)\u001b[0m\n\u001b[0;32m    184\u001b[0m         \u001b[0mdim\u001b[0m \u001b[1;33m=\u001b[0m \u001b[0mself\u001b[0m\u001b[1;33m.\u001b[0m\u001b[0mdim\u001b[0m\u001b[1;33m(\u001b[0m\u001b[1;33m)\u001b[0m\u001b[1;33m\u001b[0m\u001b[0m\n\u001b[0;32m    185\u001b[0m         \u001b[1;32mif\u001b[0m \u001b[0mdim\u001b[0m \u001b[1;33m==\u001b[0m \u001b[1;36m1\u001b[0m\u001b[1;33m:\u001b[0m\u001b[1;33m\u001b[0m\u001b[0m\n\u001b[1;32m--> 186\u001b[1;33m             \u001b[1;32mreturn\u001b[0m \u001b[1;33m[\u001b[0m\u001b[0mv\u001b[0m \u001b[1;32mfor\u001b[0m \u001b[0mv\u001b[0m \u001b[1;32min\u001b[0m \u001b[0mself\u001b[0m\u001b[1;33m]\u001b[0m\u001b[1;33m\u001b[0m\u001b[0m\n\u001b[0m\u001b[0;32m    187\u001b[0m         \u001b[1;32melif\u001b[0m \u001b[0mdim\u001b[0m \u001b[1;33m>\u001b[0m \u001b[1;36m0\u001b[0m\u001b[1;33m:\u001b[0m\u001b[1;33m\u001b[0m\u001b[0m\n\u001b[0;32m    188\u001b[0m             \u001b[1;32mreturn\u001b[0m \u001b[1;33m[\u001b[0m\u001b[0msubt\u001b[0m\u001b[1;33m.\u001b[0m\u001b[0mtolist\u001b[0m\u001b[1;33m(\u001b[0m\u001b[1;33m)\u001b[0m \u001b[1;32mfor\u001b[0m \u001b[0msubt\u001b[0m \u001b[1;32min\u001b[0m \u001b[0mself\u001b[0m\u001b[1;33m]\u001b[0m\u001b[1;33m\u001b[0m\u001b[0m\n",
      "\u001b[1;32m~\\AppData\\Local\\conda\\conda\\envs\\fastai\\lib\\site-packages\\torch\\tensor.py\u001b[0m in \u001b[0;36m<listcomp>\u001b[1;34m(.0)\u001b[0m\n\u001b[0;32m    184\u001b[0m         \u001b[0mdim\u001b[0m \u001b[1;33m=\u001b[0m \u001b[0mself\u001b[0m\u001b[1;33m.\u001b[0m\u001b[0mdim\u001b[0m\u001b[1;33m(\u001b[0m\u001b[1;33m)\u001b[0m\u001b[1;33m\u001b[0m\u001b[0m\n\u001b[0;32m    185\u001b[0m         \u001b[1;32mif\u001b[0m \u001b[0mdim\u001b[0m \u001b[1;33m==\u001b[0m \u001b[1;36m1\u001b[0m\u001b[1;33m:\u001b[0m\u001b[1;33m\u001b[0m\u001b[0m\n\u001b[1;32m--> 186\u001b[1;33m             \u001b[1;32mreturn\u001b[0m \u001b[1;33m[\u001b[0m\u001b[0mv\u001b[0m \u001b[1;32mfor\u001b[0m \u001b[0mv\u001b[0m \u001b[1;32min\u001b[0m \u001b[0mself\u001b[0m\u001b[1;33m]\u001b[0m\u001b[1;33m\u001b[0m\u001b[0m\n\u001b[0m\u001b[0;32m    187\u001b[0m         \u001b[1;32melif\u001b[0m \u001b[0mdim\u001b[0m \u001b[1;33m>\u001b[0m \u001b[1;36m0\u001b[0m\u001b[1;33m:\u001b[0m\u001b[1;33m\u001b[0m\u001b[0m\n\u001b[0;32m    188\u001b[0m             \u001b[1;32mreturn\u001b[0m \u001b[1;33m[\u001b[0m\u001b[0msubt\u001b[0m\u001b[1;33m.\u001b[0m\u001b[0mtolist\u001b[0m\u001b[1;33m(\u001b[0m\u001b[1;33m)\u001b[0m \u001b[1;32mfor\u001b[0m \u001b[0msubt\u001b[0m \u001b[1;32min\u001b[0m \u001b[0mself\u001b[0m\u001b[1;33m]\u001b[0m\u001b[1;33m\u001b[0m\u001b[0m\n",
      "\u001b[1;31mKeyboardInterrupt\u001b[0m: "
     ]
    }
   ],
   "source": [
    "lr_scheduler = CosAnneal(len(data['train']), T_mult=2)\n",
    "validator = Validator(data['valid'])\n",
    "schedule = TrainingSchedule(data['train'], [lr_scheduler, validator])\n",
    "\n",
    "sess.train(schedule, 7)"
   ]
  },
  {
   "cell_type": "code",
   "execution_count": null,
   "metadata": {},
   "outputs": [],
   "source": []
  }
 ],
 "metadata