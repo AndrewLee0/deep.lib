{
 "cells": [
  {
   "cell_type": "code",
   "execution_count": 1,
   "metadata": {},
   "outputs": [],
   "source": [
    "import torch\n",
    "import torch.nn as nn\n",
    "import torch.nn.functional as F\n",
    "import torch.optim as optim\n",
    "from torch.autograd import Variable"
   ]
  },
  {
   "cell_type": "code",
   "execution_count": 2,
   "metadata": {},
   "outputs": [],
   "source": [
    "import torchvision\n",
    "from torchvision import datasets, models, transforms"
   ]
  },
  {
   "cell_type": "code",
   "execution_count": 3,
   "metadata": {},
   "outputs": [],
   "source": [
    "import os\n",
    "from pathlib import Path\n",
    "import numpy as np\n",
    "import matplotlib.pyplot as plt\n",
    "from matplotlib import patches, patheffects\n",
    "import pandas as pd\n",
    "import json\n",
    "import cv2\n",
    "from PIL import ImageDraw, ImageFont\n",
    "from collections import namedtuple, OrderedDict"
   ]
  },
  {
   "cell_type": "code",
   "execution_count": 4,
   "metadata": {},
   "outputs": [],
   "source": [
    "from session import *\n",
    "from LR_Schedule.cos_anneal import CosAnneal\n",
    "from LR_Schedule.cyclical import Cyclical\n",
    "from LR_Schedule.lr_find import lr_find\n",
    "from callbacks import *\n",
    "from validation import *\n",
    "import Datasets.ImageData as ImageData\n",
    "from Transforms.ImageTransforms import *\n",
    "import util"
   ]
  },
  {
   "cell_type": "code",
   "execution_count": 5,
   "metadata": {},
   "outputs": [],
   "source": [
    "%load_ext autoreload\n",
    "%autoreload 2"
   ]
  },
  {
   "cell_type": "code",
   "execution_count": 6,
   "metadata": {},
   "outputs": [],
   "source": [
    "torch.cuda.is_available(), torch.cuda.get_device_name(0), torch.backends.cudnn.enabled\n",
    "torch.backends.cudnn.benchmark=True"
   ]
  },
  {
   "cell_type": "code",
   "execution_count": 7,
   "metadata": {},
   "outputs": [],
   "source": [
    "DATA_PATH = Path('C:/fastai/courses/dl2/data/road_damage_dataset')"
   ]
  },
  {
   "cell_type": "code",
   "execution_count": 8,
   "metadata": {},
   "outputs": [],
   "source": [
    "MULTICLASS_CSV_PATH = DATA_PATH/'mc.csv'"
   ]
  },
  {
   "cell_type": "code",
   "execution_count": 9,
   "metadata": {},
   "outputs": [],
   "source": [
    "im_size = 224"
   ]
  },
  {
   "cell_type": "code",
   "execution_count": 10,
   "metadata": {},
   "outputs": [],
   "source": [
    "train_tfms = TransformList([\n",
    "        RandomScale(im_size, 1.1),\n",
    "        RandomCrop(im_size),\n",
    "        RandomHorizontalFlip(),\n",
    "        transforms.ToTensor(),\n",
    "        transforms.Normalize([0.485, 0.456, 0.406], [0.229, 0.224, 0.225])\n",
    "])\n",
    "\n",
    "val_tfms = TransformList([\n",
    "        Scale(im_size),\n",
    "        transforms.ToTensor(),\n",
    "        transforms.Normalize([0.485, 0.456, 0.406], [0.229, 0.224, 0.225])\n",
    "])"
   ]
  },
  {
   "cell_type": "code",
   "execution_count": 11,
   "metadata": {},
   "outputs": [],
   "source": [
    "batch_size = 8\n",
    "data = ImageData.from_csv(DATA_PATH, MULTICLASS_CSV_PATH, batch_size, train_tfms, val_tfms)\n",
    "num_classes = 8"
   ]
  },
  {
   "cell_type": "code",
   "execution_count": 12,
   "metadata": {},
   "outputs": [
    {
     "data": {
      "text/plain": [
       "[\n",
       " ( 0 , 0 ,.,.) = \n",
       "  -1.5117e+00 -1.4654e+00 -1.0086e+00  ...  -2.0156e+00 -2.0705e+00 -1.9377e+00\n",
       "  -1.7961e+00 -2.0117e+00 -1.8465e+00  ...  -2.0214e+00 -2.0565e+00 -1.6959e+00\n",
       "  -1.8263e+00 -6.9939e-01 -6.6646e-01  ...  -2.0778e+00 -2.0689e+00 -1.7229e+00\n",
       "                  ...                   ⋱                   ...                \n",
       "  -1.0352e+00 -9.7123e-01 -9.9343e-01  ...  -8.7509e-01 -9.0603e-01 -9.3691e-01\n",
       "  -1.0214e+00 -9.1091e-01 -1.0898e+00  ...  -5.9513e-01 -8.5523e-01 -8.5281e-01\n",
       "  -1.0532e+00 -8.3838e-01 -1.2406e+00  ...  -8.2876e-01 -6.2507e-01 -9.2418e-01\n",
       " \n",
       " ( 0 , 1 ,.,.) = \n",
       "  -1.1947e+00 -1.2186e+00 -8.3691e-01  ...  -1.8961e+00 -1.9652e+00 -1.8459e+00\n",
       "  -1.5968e+00 -1.8401e+00 -1.7180e+00  ...  -1.8796e+00 -1.9300e+00 -1.5668e+00\n",
       "  -1.6871e+00 -5.3482e-01 -5.4150e-01  ...  -1.9312e+00 -1.9480e+00 -1.5853e+00\n",
       "                  ...                   ⋱                   ...                \n",
       "  -5.0037e-01 -4.7852e-01 -5.1803e-01  ...  -7.2434e-01 -7.6131e-01 -7.9288e-01\n",
       "  -4.8594e-01 -4.1686e-01 -6.1655e-01  ...  -4.2643e-01 -6.9256e-01 -6.9009e-01\n",
       "  -5.1840e-01 -3.4271e-01 -7.7066e-01  ...  -6.4777e-01 -4.3953e-01 -7.4532e-01\n",
       " \n",
       " ( 0 , 2 ,.,.) = \n",
       "  -1.4970e+00 -1.2831e+00 -7.2455e-01  ...  -1.7194e+00 -1.7856e+00 -1.6587e+00\n",
       "  -1.5298e+00 -1.7495e+00 -1.5633e+00  ...  -1.7368e+00 -1.7868e+00 -1.4375e+00\n",
       "  -1.5530e+00 -5.1311e-01 -3.5783e-01  ...  -1.7787e+00 -1.7895e+00 -1.4587e+00\n",
       "                  ...                   ⋱                   ...                \n",
       "  -3.8967e-01 -3.8478e-01 -4.1528e-01  ...  -7.4556e-01 -7.7123e-01 -7.9394e-01\n",
       "  -3.7497e-01 -3.2339e-01 -5.1336e-01  ...  -4.5504e-01 -7.1127e-01 -6.9998e-01\n",
       "  -4.0728e-01 -2.4957e-01 -6.6679e-01  ...  -6.8411e-01 -4.6819e-01 -7.6379e-01\n",
       "       ⋮  \n",
       " \n",
       " ( 1 , 0 ,.,.) = \n",
       "  -5.9835e-01 -6.1848e-01 -6.8243e-01  ...  -2.5073e-01 -2.1724e-01 -2.1826e-01\n",
       "  -2.7854e-01 -2.8775e-01 -4.5249e-01  ...  -1.5139e-01 -1.9894e-01 -1.8629e-01\n",
       "   8.1776e-02  1.1925e-02 -2.3805e-01  ...  -1.6589e-01 -1.8853e-01 -1.8731e-01\n",
       "                  ...                   ⋱                   ...                \n",
       "  -7.8294e-01 -8.5948e-01 -6.7574e-01  ...  -8.3621e-01 -6.5456e-01 -6.2321e-01\n",
       "  -3.6153e-01 -1.1847e+00 -4.3146e-01  ...  -3.4750e-01 -8.9259e-01 -9.7890e-01\n",
       "  -1.4159e+00 -1.1206e+00 -1.1061e+00  ...  -8.5140e-01 -8.1254e-01 -7.8490e-01\n",
       " \n",
       " ( 1 , 1 ,.,.) = \n",
       "   5.8944e-01  6.1245e-01  5.7851e-01  ...   9.7159e-01  1.0059e+00  1.0048e+00\n",
       "   8.2571e-01  8.6145e-01  7.4575e-01  ...   1.0600e+00  1.0115e+00  1.0244e+00\n",
       "   1.1166e+00  1.0625e+00  8.7828e-01  ...   1.0326e+00  1.0093e+00  1.0106e+00\n",
       "                  ...                   ⋱                   ...                \n",
       "  -1.0845e-01 -2.2038e-01 -1.2893e-01  ...  -6.3857e-01 -4.5264e-01 -4.2036e-01\n",
       "   1.6306e-01 -6.8702e-01  1.1962e-01  ...  -1.4689e-01 -7.0415e-01 -7.9239e-01\n",
       "  -1.1481e+00 -7.2259e-01 -6.1746e-01  ...  -6.7092e-01 -6.3119e-01 -6.0293e-01\n",
       " \n",
       " ( 1 , 2 ,.,.) = \n",
       "   1.6861e+00  1.6771e+00  1.6525e+00  ...   2.0789e+00  2.1125e+00  2.1115e+00\n",
       "   1.8103e+00  1.8608e+00  1.7895e+00  ...   2.1668e+00  2.1181e+00  2.1310e+00\n",
       "   1.9268e+00  1.9626e+00  1.8716e+00  ...   2.1781e+00  2.1555e+00  2.1567e+00\n",
       "                  ...                   ⋱                   ...                \n",
       "  -1.0122e+00 -1.1063e+00 -7.5055e-01  ...  -4.8253e-01 -2.9742e-01 -2.6529e-01\n",
       "  -7.2871e-01 -1.2463e+00 -6.7226e-01  ...   3.2060e-02 -5.2272e-01 -6.1057e-01\n",
       "  -1.4112e+00 -1.2408e+00 -1.2454e+00  ...  -4.6314e-01 -4.2359e-01 -3.9546e-01\n",
       "       ⋮  \n",
       " \n",
       " ( 2 , 0 ,.,.) = \n",
       "   1.8435e+00  1.8883e+00  1.9484e+00  ...   2.1982e+00  2.2384e+00  1.9785e+00\n",
       "   1.8421e+00  1.9029e+00  1.9038e+00  ...   2.2273e+00  2.1978e+00  9.6413e-01\n",
       "   1.7674e+00  1.8299e+00  1.9135e+00  ...   2.0629e+00  2.0916e+00  1.0236e+00\n",
       "                  ...                   ⋱                   ...                \n",
       "  -7.2306e-01 -6.8841e-01 -6.4729e-01  ...  -7.7642e-01 -8.2784e-01 -7.6542e-01\n",
       "  -6.1030e-01 -7.2919e-01 -7.0958e-01  ...  -7.3738e-01 -6.9843e-01 -7.3466e-01\n",
       "  -7.5492e-01 -7.8315e-01 -8.2310e-01  ...  -6.2412e-01 -5.4254e-01 -6.4092e-01\n",
       " \n",
       " ( 2 , 1 ,.,.) = \n",
       "   1.9499e+00  2.0337e+00  2.1105e+00  ...   2.4159e+00  2.4201e+00  2.1123e+00\n",
       "   1.9799e+00  2.0531e+00  2.0848e+00  ...   2.3869e+00  2.3447e+00  1.0429e+00\n",
       "   1.9156e+00  1.9827e+00  2.0941e+00  ...   2.2272e+00  2.2437e+00  1.1645e+00\n",
       "                  ...                   ⋱                   ...                \n",
       "  -6.0974e-01 -5.7432e-01 -5.3192e-01  ...  -6.6475e-01 -7.3436e-01 -6.8805e-01\n",
       "  -5.1173e-01 -6.3328e-01 -6.1323e-01  ...  -6.2437e-01 -6.0183e-01 -6.5661e-01\n",
       "  -6.7732e-01 -7.0618e-01 -7.4702e-01  ...  -5.0859e-01 -4.4246e-01 -5.6078e-01\n",
       " \n",
       " ( 2 , 2 ,.,.) = \n",
       "   2.2603e+00  2.3341e+00  2.4072e+00  ...   2.5521e+00  2.5833e+00  2.3001e+00\n",
       "   2.2805e+00  2.3533e+00  2.3717e+00  ...   2.6284e+00  2.5519e+00  1.2176e+00\n",
       "   2.2165e+00  2.2833e+00  2.3812e+00  ...   2.3817e+00  2.4128e+00  1.1583e+00\n",
       "                  ...                   ⋱                   ...                \n",
       "  -3.5041e-01 -3.3257e-01 -3.0751e-01  ...  -4.0541e-01 -4.8274e-01 -4.4534e-01\n",
       "  -2.4378e-01 -3.8245e-01 -3.7968e-01  ...  -3.6498e-01 -3.5067e-01 -4.1404e-01\n",
       "  -3.9980e-01 -4.4619e-01 -5.0405e-01  ...  -2.4971e-01 -1.9201e-01 -3.1863e-01\n",
       " ...     \n",
       "       ⋮  \n",
       " \n",
       " ( 5 , 0 ,.,.) = \n",
       "  -2.0799e+00 -2.0713e+00 -2.0777e+00  ...   8.9837e-02  3.3660e-01  5.2124e-01\n",
       "  -2.0825e+00 -1.9908e+00 -2.0684e+00  ...   3.7931e-01  2.7769e-01  5.7448e-02\n",
       "  -2.0482e+00 -2.0678e+00 -2.0226e+00  ...  -3.2559e-01 -1.8893e-02 -1.1334e+00\n",
       "                  ...                   ⋱                   ...                \n",
       "  -8.4108e-01 -7.6993e-01 -4.8734e-01  ...  -1.8517e+00 -1.6939e+00 -1.5093e+00\n",
       "  -2.9931e-01 -3.7443e-01 -6.4830e-01  ...  -7.8774e-01 -7.7642e-01 -4.9172e-01\n",
       "  -4.1600e-01 -2.6468e-01 -3.6997e-01  ...  -9.1881e-01 -1.1720e+00 -1.1154e+00\n",
       " \n",
       " ( 5 , 1 ,.,.) = \n",
       "  -1.9406e+00 -1.9206e+00 -1.9569e+00  ...   1.0538e+00  1.1404e+00  1.3772e+00\n",
       "  -1.9888e+00 -1.8894e+00 -1.9743e+00  ...   1.3834e+00  1.2077e+00  8.8655e-01\n",
       "  -1.9539e+00 -1.9673e+00 -1.9359e+00  ...   5.6644e-01  9.1489e-01 -7.1062e-01\n",
       "                  ...                   ⋱                   ...                \n",
       "  -5.2065e-01 -4.4757e-01 -1.5867e-01  ...  -1.7020e+00 -1.5170e+00 -1.3141e+00\n",
       "   3.3554e-02 -4.3240e-02 -3.2323e-01  ...  -5.7709e-01 -5.4891e-01 -2.2915e-01\n",
       "  -8.5742e-02  6.8960e-02 -3.8677e-02  ...  -6.7929e-01 -9.3091e-01 -8.4463e-01\n",
       " \n",
       " ( 5 , 2 ,.,.) = \n",
       "  -1.7530e+00 -1.7592e+00 -1.7527e+00  ...   2.0664e+00  2.1555e+00  2.3084e+00\n",
       "  -1.7429e+00 -1.6886e+00 -1.7412e+00  ...   2.3163e+00  2.1236e+00  1.7936e+00\n",
       "  -1.7236e+00 -1.7632e+00 -1.7235e+00  ...   1.5261e+00  1.8535e+00  3.9571e-01\n",
       "                  ...                   ⋱                   ...                \n",
       "  -3.6520e-01 -2.9261e-01 -5.3518e-03  ...  -1.5117e+00 -1.3486e+00 -1.1714e+00\n",
       "   1.8591e-01  1.0946e-01 -1.6929e-01  ...  -4.6529e-01 -4.5597e-01 -1.6968e-01\n",
       "   6.7144e-02  2.2116e-01  1.1400e-01  ...  -6.2339e-01 -8.8956e-01 -8.1038e-01\n",
       "       ⋮  \n",
       " \n",
       " ( 6 , 0 ,.,.) = \n",
       "  -1.8459e+00 -1.5197e+00 -1.3762e+00  ...   2.2094e+00  2.1888e+00  2.0676e+00\n",
       "  -1.4035e+00 -1.2342e+00 -1.8598e+00  ...   2.1835e+00  2.0420e+00  2.1094e+00\n",
       "  -1.3855e+00 -1.3694e+00 -1.1744e+00  ...   2.0735e+00  2.1915e+00  2.2109e+00\n",
       "                  ...                   ⋱                   ...                \n",
       "  -1.3012e+00 -1.3659e+00 -1.2393e+00  ...  -1.3784e+00 -1.2913e+00 -1.3546e+00\n",
       "  -1.2036e+00 -1.4455e+00 -1.3486e+00  ...  -1.2691e+00 -1.0474e+00 -1.3434e+00\n",
       "  -1.4888e+00 -1.3224e+00 -1.3878e+00  ...  -1.3277e+00 -1.5668e+00 -1.4273e+00\n",
       " \n",
       " ( 6 , 1 ,.,.) = \n",
       "  -1.6219e+00 -1.2100e+00 -1.0547e+00  ...   2.4058e+00  2.4032e+00  2.3082e+00\n",
       "  -1.2650e+00 -1.2506e+00 -1.8153e+00  ...   2.3881e+00  2.2434e+00  2.3284e+00\n",
       "  -1.2739e+00 -1.3475e+00 -1.1939e+00  ...   2.2824e+00  2.3989e+00  2.4180e+00\n",
       "                  ...                   ⋱                   ...                \n",
       "  -1.1252e+00 -1.1895e+00 -1.0584e+00  ...  -1.1038e+00 -9.9805e-01 -1.0453e+00\n",
       "  -1.0309e+00 -1.2783e+00 -1.1787e+00  ...  -9.9294e-01 -7.4896e-01 -1.0338e+00\n",
       "  -1.3225e+00 -1.1524e+00 -1.2188e+00  ...  -1.0528e+00 -1.2800e+00 -1.1196e+00\n",
       " \n",
       " ( 6 , 2 ,.,.) = \n",
       "  -1.6648e+00 -1.4090e+00 -1.3647e+00  ...   2.6371e+00  2.6318e+00  2.5330e+00\n",
       "  -1.4473e+00 -1.3628e+00 -1.7138e+00  ...   2.5967e+00  2.4607e+00  2.5455e+00\n",
       "  -1.3443e+00 -1.5133e+00 -1.3465e+00  ...   2.4789e+00  2.5990e+00  2.6187e+00\n",
       "                  ...                   ⋱                   ...                \n",
       "  -9.1765e-01 -9.8259e-01 -8.2681e-01  ...  -8.5968e-01 -7.6268e-01 -8.1840e-01\n",
       "  -8.2156e-01 -1.0678e+00 -9.4244e-01  ...  -7.4888e-01 -5.1458e-01 -8.0699e-01\n",
       "  -1.1118e+00 -9.4251e-01 -9.8230e-01  ...  -8.0851e-01 -1.0432e+00 -8.9238e-01\n",
       "       ⋮  \n",
       " \n",
       " ( 7 , 0 ,.,.) = \n",
       "  -1.4119e+00 -1.4400e+00 -1.0431e+00  ...   9.8476e-01  9.5943e-01  8.6965e-01\n",
       "  -1.2384e+00 -1.1372e+00 -1.5328e+00  ...   1.0232e+00  1.0066e+00  9.7095e-01\n",
       "  -1.2499e+00 -1.5090e+00 -1.0514e+00  ...   1.0723e+00  1.0435e+00  9.8685e-01\n",
       "                  ...                   ⋱                   ...                \n",
       "  -1.5238e-01 -2.3892e-02 -3.2328e-01  ...  -5.4270e-01 -4.6089e-01 -5.3038e-01\n",
       "  -3.7099e-01 -2.1265e-01 -2.2552e-01  ...  -4.5636e-01 -4.3616e-01 -6.1704e-01\n",
       "  -2.0675e-01 -3.0844e-01 -2.9307e-01  ...  -2.1297e-01 -5.4922e-01 -5.3878e-01\n",
       " \n",
       " ( 7 , 1 ,.,.) = \n",
       "  -1.1313e+00 -1.1730e+00 -7.7940e-01  ...   1.8539e+00  1.8281e+00  1.7330e+00\n",
       "  -9.9744e-01 -8.8656e-01 -1.2934e+00  ...   1.8933e+00  1.8763e+00  1.8268e+00\n",
       "  -1.0232e+00 -1.2941e+00 -8.2117e-01  ...   1.9435e+00  1.9140e+00  1.8530e+00\n",
       "                  ...                   ⋱                   ...                \n",
       "   2.6206e-02  1.5791e-01 -1.4781e-01  ...  -3.7284e-01 -2.9564e-01 -3.7644e-01\n",
       "  -1.9729e-01 -3.5412e-02 -4.8571e-02  ...  -2.8456e-01 -2.6391e-01 -4.5546e-01\n",
       "  -2.9381e-02 -1.3334e-01 -1.1763e-01  ...  -3.5736e-02 -3.7949e-01 -3.6882e-01\n",
       " \n",
       " ( 7 , 2 ,.,.) = \n",
       "  -5.9253e-01 -6.5131e-01 -2.7732e-01  ...   2.5919e+00  2.5862e+00  2.5140e+00\n",
       "  -4.3963e-01 -3.4691e-01 -7.6293e-01  ...   2.6269e+00  2.6326e+00  2.6250e+00\n",
       "  -4.6524e-01 -7.4596e-01 -2.8268e-01  ...   2.6399e+00  2.6351e+00  2.6168e+00\n",
       "                  ...                   ⋱                   ...                \n",
       "   9.1449e-02  2.2245e-01 -8.2369e-02  ...  -2.7096e-01 -1.8127e-01 -2.4227e-01\n",
       "  -1.3105e-01  3.0104e-02  1.7004e-02  ...  -1.9591e-01 -1.6252e-01 -3.4003e-01\n",
       "   3.6109e-02 -6.7387e-02 -5.1746e-02  ...   3.2367e-02 -2.9077e-01 -2.6696e-01\n",
       " [torch.FloatTensor of size 8x3x224x224], \n",
       "     0     1     0     0     1     0     0     0\n",
       "     0     0     0     0     1     0     0     0\n",
       "     0     0     0     0     1     0     0     0\n",
       "     0     0     0     0     0     0     1     1\n",
       "     0     1     0     0     1     0     0     0\n",
       "     1     0     0     0     0     0     0     0\n",
       "     0     0     0     0     0     0     0     1\n",
       "     1     1     1     0     0     0     0     0\n",
       " [torch.FloatTensor of size 8x8], {'file': ['C:\\\\fastai\\\\courses\\\\dl2\\\\data\\\\road_damage_dataset\\\\Nagakute\\\\JPEGImages\\\\train_Nagakute_00309.jpg',\n",
       "   'C:\\\\fastai\\\\courses\\\\dl2\\\\data\\\\road_damage_dataset\\\\Muroran\\\\JPEGImages\\\\train_Muroran_00062.jpg',\n",
       "   'C:\\\\fastai\\\\courses\\\\dl2\\\\data\\\\road_damage_dataset\\\\Adachi\\\\JPEGImages\\\\train_Adachi_00677.jpg',\n",
       "   'C:\\\\fastai\\\\courses\\\\dl2\\\\data\\\\road_damage_dataset\\\\Ichihara\\\\JPEGImages\\\\train_Ichihara_00023.jpg',\n",
       "   'C:\\\\fastai\\\\courses\\\\dl2\\\\data\\\\road_damage_dataset\\\\Muroran\\\\JPEGImages\\\\train_Muroran_00447.jpg',\n",
       "   'C:\\\\fastai\\\\courses\\\\dl2\\\\data\\\\road_damage_dataset\\\\Adachi\\\\JPEGImages\\\\train_Adachi_01036.jpg',\n",
       "   'C:\\\\fastai\\\\courses\\\\dl2\\\\data\\\\road_damage_dataset\\\\Nagakute\\\\JPEGImages\\\\train_Nagakute_00740.jpg',\n",
       "   'C:\\\\fastai\\\\courses\\\\dl2\\\\data\\\\road_damage_dataset\\\\Muroran\\\\JPEGImages\\\\train_Muroran_00744.jpg']}]"
      ]
     },
     "execution_count": 12,
     "metadata": {},
     "output_type": "execute_result"
    }
   ],
   "source": [
    "# next(iter(data['valid']))"
   ]
  },
  {
   "cell_type": "code",
   "execution_count": 13,
   "metadata": {},
   "outputs": [],
   "source": [
    "model_ft = models.resnet18(pretrained=True)\n",
    "model_ft.avgpool = nn.AdaptiveAvgPool2d(1)\n",
    "num_ftrs = model_ft.fc.in_features\n",
    "model_ft.fc = nn.Sequential(\n",
    "    nn.Dropout(p=.5),\n",
    "    nn.Linear(num_ftrs, num_classes),\n",
    "    nn.Sigmoid()\n",
    ")"
   ]
  },
  {
   "cell_type": "code",
   "execution_count": 14,
   "metadata": {},
   "outputs": [],
   "source": [
    "criterion = nn.BCELoss()\n",
    "optim_fn = optim.Adam"
   ]
  },
  {
   "cell_type": "code",
   "execution_count": 15,
   "metadata": {},
   "outputs": [],
   "source": [
    "sess = Session(model_ft, criterion, optim_fn, [*[1e-3] * 9, 1e-2])"
   ]
  },
  {
   "cell_type": "code",
   "execution_count": null,
   "metadata": {},
   "outputs": [],
   "source": [
    "sess.freeze() "
   ]
  },
  {
   "cell_type": "code",
   "execution_count": null,
   "metadata": {},
   "outputs": [],
   "source": [
    "lr_find(sess, data['train'], start_lr=1e-7)"
   ]
  },
  {
   "cell_type": "code",
   "execution_count": null,
   "metadata": {},
   "outputs": [],
   "source": [
    "sess.set_lr(3e-4)"
   ]
  },
  {
   "cell_type": "code",
   "execution_count": 24,
   "metadata": {},
   "outputs": [],
   "source": [
    "accuracy = NHotAccuracy(num_classes)\n",
    "validator = Validator(data['valid'], accuracy)\n",
    "lr_scheduler = Cyclical(len(data['train']) * 3)\n",
    "schedule = TrainingSchedule(data['train'], [validator, lr_scheduler])"
   ]
  },
  {
   "cell_type": "code",
   "execution_count": 25,
   "metadata": {},
   "outputs": [],
   "source": [
    "# validator.run(sess)"
   ]
  },
  {
   "cell_type": "code",
   "execution_count": null,
   "metadata": {},
   "outputs": [
    {
     "data": {
      "application/vnd.jupyter.widget-view+json": {
       "model_id": "c74e38bf525b409ebfeac8f9072e2bd5",
       "version_major": 2,
       "version_minor": 0
      },
      "text/plain": [
       "HBox(children=(IntProgress(value=0, description='Epochs', max=3), HTML(value='')))"
      ]
     },
     "metadata": {},
     "output_type": "display_data"
    },
    {
     "data": {
      "application/vnd.jupyter.widget-view+json": {
       "model_id": "",
       "version_major": 2,
       "version_minor": 0
      },
      "text/plain": [
       "HBox(children=(IntProgress(value=0, description='Steps', max=723), HTML(value='')))"
      ]
     },
     "metadata": {},
     "output_type": "display_data"
    },
    {
     "data": {
      "application/vnd.jupyter.widget-view+json": {
       "model_id": "bf732243b3fa4e839649b8d3084fcced",
       "version_major": 2,
       "version_minor": 0
      },
      "text/plain": [
       "HBox(children=(IntProgress(value=0, description='Validating', max=181), HTML(value='')))"
      ]
     },
     "metadata": {},
     "output_type": "display_data"
    },
    {
     "name": "stdout",
     "output_type": "stream",
     "text": [
      "Training Loss: 0.515679  Validaton Loss: 0.429457 Validation Accuracy: 0.821750\n"
     ]
    },
    {
     "data": {
      "application/vnd.jupyter.widget-view+json": {
       "model_id": "",
       "version_major": 2,
       "version_minor": 0
      },
      "text/plain": [
       "HBox(children=(IntProgress(value=0, description='Steps', max=723), HTML(value='')))"
      ]
     },
     "metadata": {},
     "output_type": "display_data"
    },
    {
     "data": {
      "application/vnd.jupyter.widget-view+json": {
       "model_id": "f946cffa304549f7ad4b5aa561c8b0b8",
       "version_major": 2,
       "version_minor": 0
      },
      "text/plain": [
       "HBox(children=(IntProgress(value=0, description='Validating', max=181), HTML(value='')))"
      ]
     },
     "metadata": {},
     "output_type": "display_data"
    },
    {
     "name": "stdout",
     "output_type": "stream",
     "text": [
      "Training Loss: 0.451662  Validaton Loss: 0.374579 Validation Accuracy: 0.844312\n"
     ]
    },
    {
     "data": {
      "application/vnd.jupyter.widget-view+json": {
       "model_id": "632b9873a0da4a48b855656e008b0a6c",
       "version_major": 2,
       "version_minor": 0
      },
      "text/plain": [
       "HBox(children=(IntProgress(value=0, description='Steps', max=723), HTML(value='')))"
      ]
     },
     "metadata": {},
     "output_type": "display_data"
    }
   ],
   "source": [
    "sess.train(schedule, 3)"
   ]
  },
  {
   "cell_type": "code",
   "execution_count": null,
   "metadata": {},
   "outputs": [],
   "source": [
    "lr_scheduler.plot()"
   ]
  },
  {
   "cell_type": "code",
   "execution_count": null,
   "metadata": {},
   "outputs": [],
   "source": [
    "for detail in accuracy.confusion:\n",
    "    print(detail)"
   ]
  },
  {
   "cell_type": "code",
   "execution_count": 23,
   "metadata": {},
   "outputs": [
    {
     "name": "stdout",
     "output_type": "stream",
     "text": [
      "Precision:  [0, 0.4357476635514019, 0, 0, 0.6621621621621622, 0, 0.6558441558441559, 0.6192384769539078]\n",
      "Recall:  [0, 0.6781818181818182, 0, 0, 0.12860892388451445, 0, 0.7890625, 0.6518987341772152]\n",
      "F-Measure:  [0, 0.5305832147937412, 0, 0, 0.21538461538461542, 0, 0.7163120567375887, 0.6351490236382322]\n"
     ]
    }
   ],
   "source": [
    "print(\"Precision: \", accuracy.precision()) \n",
    "print(\"Recall: \", accuracy.recall())\n",
    "print(\"F-Measure: \", accuracy.FMeasure())"
   ]
  },
  {
   "cell_type": "code",
   "execution_count": null,
   "metadata": {},
   "outputs": [],
   "source": [
    "sess.save('TrainLayer1')"
   ]
  },
  {
   "cell_type": "code",
   "execution_count": null,
   "metadata": {},
   "outputs": [],
   "source": [
    "sess.load('TrainLayer1')"
   ]
  },
  {
   "cell_type": "code",
   "execution_count": null,
   "metadata": {},
   "outputs": [],
   "source": [
    "sess.unfreeze()"
   ]
  },
  {
   "cell_type": "code",
   "execution_count": null,
   "metadata": {},
   "outputs": [],
   "source": [
    "lr_find(sess, data['train'], \n",
    "        start_lr=[*[1e-6 / 1000] * 5, *[1e-6 / 100] * 4, 1e-6], \n",
    "        end_lr=[*[10 / 1000] * 5, *[10 / 100] * 4, 10])"
   ]
  },
  {
   "cell_type": "code",
   "execution_count": null,
   "metadata": {},
   "outputs": [],
   "source": [
    "sess.set_lr([*[1e-4 / 1000] * 5, *[1e-4 / 100] * 4, 1e-4])"
   ]
  },
  {
   "cell_type": "code",
   "execution_count": null,
   "metadata": {},
   "outputs": [],
   "source": [
    "accuracy = NHotAccuracy(num_classes)\n",
    "validator = Validator(data['valid'], accuracy)\n",
    "lr_scheduler = CosAnneal(len(data['train']), T_mult=2)\n",
    "schedule = TrainingSchedule(data['train'], [validator, lr_scheduler])\n",
    "\n",
    "sess.train(schedule, 7)"
   ]
  },
  {
   "cell_type": "code",
   "execution_count": null,
   "metadata": {},
   "outputs": [],
   "source": [
    "for detail in accuracy.confusion:\n",
    "    print(detail)"
   ]
  },
  {
   "cell_type": "code",
   "execution_count": null,
   "metadata": {},
   "outputs": [],
   "source": [
    "print(\"Precision: \", accuracy.precision()) \n",
    "print(\"Recall: \", accuracy.recall())\n",
    "print(\"F-Measure: \", accuracy.FMeasure())"
   ]
  },
  {
   "cell_type": "code",
   "execution_count": null,
   "metadata": {},
   "outputs": [],
   "source": [
    "lr_scheduler.plot()"
   ]
  },
  {
   "cell_type": "code",
   "execution_count": null,
   "metadata": {},
   "outputs": [],
   "source": [
    "sess.save('FullTrain')"
   ]
  },
  {
   "cell_type": "code",
   "execution_count": null,
   "metadata": {},
   "outputs": [],
   "source": [
    "sess.load('FullTrain')"
   ]
  },
  {
   "cell_type": "code",
   "execution_count": null,
   "metadata": {},
   "outputs": [],
   "source": [
    "sess.train(schedule, 8)"
   ]
  },
  {
   "cell_type": "code",
   "execution_count": null,
   "metadata": {},
   "outputs": [],
   "source": [
    "sess.save('FullTrain2')"
   ]
  },
  {
   "cell_type": "code",
   "execution_count": null,
   "metadata": {},
   "outputs": [],
   "source": [
    "sess.load('FullTrain2')"
   ]
  },
  {
   "cell_type": "code",
   "execution_count": null,
   "metadata": {},
   "outputs": [],
   "source": [
    "print(\"Precision: \", accuracy.precision()) \n",
    "print(\"Recall: \", accuracy.recall())\n",
    "print(\"F-Measure: \", accuracy.FMeasure())"
   ]
  },
  {
   "cell_type": "code",
   "execution_count": null,
   "metadata": {},
   "outputs": [],
   "source": [
    "for detail in accuracy.confusion:\n",
    "    print(detail)"
   ]
  },
  {
   "cell_type": "code",
   "execution_count": null,
   "metadata": {},
   "outputs": [],
   "source": []
  }
 ],
 "metadata": {
  "kernelspec": {
   "display_name": "fastAI custom",
   "language": "python",
   "name": "fastai"
  },
  "language_info": {
   "codemirror_mode": {
    "name": "ipython",
    "version": 3
   },
   "file_extension": ".py",
   "mimetype": "text/x-python",
   "name": "python",
   "nbconvert_exporter": "python",
   "pygments_lexer": "ipython3",
   "version": "3.6.6"
  }
 },
 "nbformat": 4,
 "nbformat_minor": 2
}
