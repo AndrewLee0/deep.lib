{
 "cells": [
  {
   "cell_type": "code",
   "execution_count": 17,
   "metadata": {},
   "outputs": [],
   "source": [
    "import torch\n",
    "import torch.nn as nn\n",
    "import torch.nn.functional as F\n",
    "import torch.optim as optim\n",
    "from torch.autograd import Variable"
   ]
  },
  {
   "cell_type": "code",
   "execution_count": 18,
   "metadata": {},
   "outputs": [],
   "source": [
    "import torchvision\n",
    "from torchvision import datasets, models, transforms"
   ]
  },
  {
   "cell_type": "code",
   "execution_count": 19,
   "metadata": {},
   "outputs": [],
   "source": [
    "import os\n",
    "from pathlib import Path\n",
    "import numpy as np\n",
    "import matplotlib.pyplot as plt\n",
    "from matplotlib import patches, patheffects\n",
    "import pandas as pd\n",
    "import json\n",
    "import cv2\n",
    "from PIL import ImageDraw, ImageFont\n",
    "from collections import namedtuple, OrderedDict"
   ]
  },
  {
   "cell_type": "code",
   "execution_count": 20,
   "metadata": {},
   "outputs": [],
   "source": [
    "from session import *\n",
    "from LR_Schedule.cos_anneal import CosAnneal\n",
    "from LR_Schedule.lr_find import lr_find\n",
    "from callbacks import *\n",
    "from validation import *\n",
    "import Datasets.ImageData as ImageData\n",
    "from Transforms.ImageTransforms import *"
   ]
  },
  {
   "cell_type": "code",
   "execution_count": 21,
   "metadata": {},
   "outputs": [
    {
     "name": "stdout",
     "output_type": "stream",
     "text": [
      "The autoreload extension is already loaded. To reload it, use:\n",
      "  %reload_ext autoreload\n"
     ]
    }
   ],
   "source": [
    "%load_ext autoreload\n",
    "%autoreload 2"
   ]
  },
  {
   "cell_type": "code",
   "execution_count": 22,
   "metadata": {},
   "outputs": [
    {
     "data": {
      "text/plain": [
       "(True, 'GeForce GTX 960M', True)"
      ]
     },
     "execution_count": 22,
     "metadata": {},
     "output_type": "execute_result"
    }
   ],
   "source": [
    "torch.cuda.is_available(), torch.cuda.get_device_name(0), torch.backends.cudnn.enabled"
   ]
  },
  {
   "cell_type": "code",
   "execution_count": 23,
   "metadata": {},
   "outputs": [],
   "source": [
    "DATA_PATH = Path('C:/fastai/courses/dl2/data/road_damage_dataset')"
   ]
  },
  {
   "cell_type": "code",
   "execution_count": 24,
   "metadata": {},
   "outputs": [],
   "source": [
    "MULTICLASS_CSV_PATH = DATA_PATH/'mc.csv'"
   ]
  },
  {
   "cell_type": "code",
   "execution_count": 25,
   "metadata": {},
   "outputs": [],
   "source": [
    "im_size = 224"
   ]
  },
  {
   "cell_type": "code",
   "execution_count": 26,
   "metadata": {},
   "outputs": [],
   "source": [
    "train_tfms = TransformList([\n",
    "        RandomScale(im_size, 1.2),\n",
    "        RandomCrop(im_size),\n",
    "        RandomHorizontalFlip(),\n",
    "        transforms.ToTensor(),\n",
    "        transforms.Normalize([0.485, 0.456, 0.406], [0.229, 0.224, 0.225])\n",
    "])\n",
    "\n",
    "val_tfms = TransformList([\n",
    "        Scale(im_size),\n",
    "        transforms.ToTensor(),\n",
    "        transforms.Normalize([0.485, 0.456, 0.406], [0.229, 0.224, 0.225])\n",
    "])"
   ]
  },
  {
   "cell_type": "code",
   "execution_count": 27,
   "metadata": {},
   "outputs": [],
   "source": [
    "batch_size = 4\n",
    "data = ImageData.from_csv(DATA_PATH, MULTICLASS_CSV_PATH, batch_size, train_tfms, val_tfms)\n",
    "num_classes = 8"
   ]
  },
  {
   "cell_type": "code",
   "execution_count": 28,
   "metadata": {},
   "outputs": [
    {
     "data": {
      "text/plain": [
       "[\n",
       " ( 0 , 0 ,.,.) = \n",
       "  -1.3254e+00 -1.2948e+00 -1.2733e+00  ...  -9.7065e-01 -1.4398e+00 -1.3642e+00\n",
       "  -1.3238e+00 -1.3055e+00 -1.3116e+00  ...  -1.2074e+00 -1.7876e+00 -1.2151e+00\n",
       "  -1.3025e+00 -1.2790e+00 -1.2363e+00  ...  -1.5753e+00 -1.6332e+00 -9.6581e-01\n",
       "                  ...                   ⋱                   ...                \n",
       "  -9.5418e-01 -1.3223e+00 -1.2406e+00  ...  -9.7112e-01 -7.6084e-01 -9.0069e-01\n",
       "  -1.6960e+00 -1.7061e+00 -1.4207e+00  ...  -8.4201e-01 -7.8964e-01 -8.2210e-01\n",
       "  -1.5861e+00 -1.4738e+00 -1.4143e+00  ...  -1.0280e+00 -9.3652e-01 -8.4823e-01\n",
       " \n",
       " ( 0 , 1 ,.,.) = \n",
       "  -3.0627e-01 -2.7499e-01 -2.5975e-01  ...  -1.8312e-01 -7.6405e-01 -3.7685e-01\n",
       "  -2.7854e-01 -2.5977e-01 -2.7917e-01  ...  -3.5898e-01 -1.1744e+00 -3.7092e-01\n",
       "  -2.5637e-01 -2.3271e-01 -1.8906e-01  ...  -7.7681e-01 -1.0716e+00 -3.9660e-01\n",
       "                  ...                   ⋱                   ...                \n",
       "  -7.1456e-01 -1.1111e+00 -1.0487e+00  ...  -7.4010e-01 -5.2581e-01 -6.6878e-01\n",
       "  -1.5575e+00 -1.5728e+00 -1.3064e+00  ...  -5.8252e-01 -5.2934e-01 -5.6253e-01\n",
       "  -1.5165e+00 -1.4012e+00 -1.3587e+00  ...  -7.4639e-01 -6.5289e-01 -5.6263e-01\n",
       " \n",
       " ( 0 , 2 ,.,.) = \n",
       "   9.6307e-01  9.9421e-01  1.0094e+00  ...   3.5108e-01 -5.9845e-01  3.8063e-01\n",
       "   9.9067e-01  1.0094e+00  9.9005e-01  ...   5.5932e-01 -9.3546e-01  2.0862e-02\n",
       "   1.0126e+00  1.0363e+00  1.0798e+00  ...   3.4306e-04 -8.4187e-01 -5.9893e-01\n",
       "                  ...                   ⋱                   ...                \n",
       "  -5.5544e-01 -9.5047e-01 -9.0386e-01  ...  -6.5425e-01 -4.4068e-01 -5.8302e-01\n",
       "  -1.4884e+00 -1.5097e+00 -1.2683e+00  ...  -5.0586e-01 -4.5280e-01 -4.8584e-01\n",
       "  -1.5309e+00 -1.4190e+00 -1.4025e+00  ...  -6.7771e-01 -5.8463e-01 -4.9477e-01\n",
       "       ⋮  \n",
       " \n",
       " ( 1 , 0 ,.,.) = \n",
       "   2.2489e+00  2.2489e+00  2.2489e+00  ...  -8.3889e-01 -9.1498e-01 -8.8099e-01\n",
       "   2.2489e+00  2.2489e+00  2.2489e+00  ...  -7.9202e-01 -8.9985e-01 -8.6228e-01\n",
       "   2.2489e+00  2.2489e+00  2.2489e+00  ...  -8.4948e-01 -9.6514e-01 -9.4341e-01\n",
       "                  ...                   ⋱                   ...                \n",
       "   1.2371e+00  1.2265e+00  1.2885e+00  ...   6.4552e-01  5.8786e-01  5.6710e-01\n",
       "   1.4527e+00  1.5922e+00  1.5948e+00  ...   8.7292e-01  8.4338e-01  8.3560e-01\n",
       "   1.2979e+00  1.4130e+00  1.4196e+00  ...   1.0480e+00  1.0154e+00  9.7808e-01\n",
       " \n",
       " ( 1 , 1 ,.,.) = \n",
       "   2.4286e+00  2.4286e+00  2.4286e+00  ...  -6.5901e-01 -7.7514e-01 -7.8427e-01\n",
       "   2.4286e+00  2.4286e+00  2.4286e+00  ...  -6.1452e-01 -7.6192e-01 -7.4965e-01\n",
       "   2.4286e+00  2.4286e+00  2.4286e+00  ...  -6.8332e-01 -8.2175e-01 -8.1738e-01\n",
       "                  ...                   ⋱                   ...                \n",
       "   4.4459e-01  4.0206e-01  4.4896e-01  ...   1.0284e-01  7.4404e-02  6.5434e-02\n",
       "   6.9969e-01  8.1069e-01  7.9779e-01  ...   2.2199e-01  2.0289e-01  2.1513e-01\n",
       "   5.2404e-01  6.1551e-01  6.0076e-01  ...   3.1560e-01  2.9735e-01  2.6944e-01\n",
       " \n",
       " ( 1 , 2 ,.,.) = \n",
       "   2.6400e+00  2.6400e+00  2.6400e+00  ...  -2.7752e-01 -4.0121e-01 -4.4515e-01\n",
       "   2.6400e+00  2.6400e+00  2.6400e+00  ...  -2.3694e-01 -4.0764e-01 -4.2399e-01\n",
       "   2.6400e+00  2.6400e+00  2.6400e+00  ...  -3.0956e-01 -4.9089e-01 -5.1166e-01\n",
       "                  ...                   ⋱                   ...                \n",
       "  -1.7133e+00 -1.7729e+00 -1.7457e+00  ...  -1.2155e+00 -1.2253e+00 -1.2292e+00\n",
       "  -1.6735e+00 -1.5803e+00 -1.6194e+00  ...  -1.5097e+00 -1.5166e+00 -1.4994e+00\n",
       "  -1.7348e+00 -1.6795e+00 -1.7079e+00  ...  -1.7432e+00 -1.7323e+00 -1.7586e+00\n",
       "       ⋮  \n",
       " \n",
       " ( 2 , 0 ,.,.) = \n",
       "  -1.8023e-01  1.7710e-02 -2.1578e-02  ...   1.8955e+00  1.8623e+00  1.8323e+00\n",
       "  -3.1509e-01  1.5493e-01  4.2077e-03  ...   1.9001e+00  1.8658e+00  1.8362e+00\n",
       "  -3.7160e-01  2.6400e-01 -8.7645e-03  ...   1.9041e+00  1.8587e+00  1.8200e+00\n",
       "                  ...                   ⋱                   ...                \n",
       "  -9.5165e-01 -1.3892e+00 -1.6891e+00  ...  -9.9389e-01 -1.1574e+00 -1.1733e+00\n",
       "  -1.1394e+00 -1.2224e+00 -1.0897e+00  ...  -1.0956e+00 -1.1621e+00 -7.4544e-01\n",
       "  -1.1568e+00 -1.0150e+00 -8.7857e-01  ...  -1.1402e+00 -1.0802e+00 -1.0847e+00\n",
       " \n",
       " ( 2 , 1 ,.,.) = \n",
       "  -1.4120e-01  7.7541e-02  3.7376e-02  ...   2.2517e+00  2.2542e+00  2.2302e+00\n",
       "  -2.9333e-01  2.0009e-01  5.9480e-02  ...   2.2470e+00  2.2379e+00  2.2343e+00\n",
       "  -3.5547e-01  2.9431e-01  2.1849e-02  ...   2.2508e+00  2.2110e+00  2.2070e+00\n",
       "                  ...                   ⋱                   ...                \n",
       "  -8.1393e-01 -1.2564e+00 -1.6157e+00  ...  -8.1658e-01 -9.8371e-01 -9.9997e-01\n",
       "  -1.0004e+00 -1.0858e+00 -9.9153e-01  ...  -9.2053e-01 -9.8852e-01 -5.6259e-01\n",
       "  -9.9198e-01 -8.6029e-01 -7.6124e-01  ...  -9.6621e-01 -9.0480e-01 -9.0940e-01\n",
       " \n",
       " ( 2 , 2 ,.,.) = \n",
       "   1.3153e-01  3.1685e-01  2.7686e-01  ...   2.6349e+00  2.6255e+00  2.5994e+00\n",
       "  -3.7121e-02  4.4768e-01  3.0075e-01  ...   2.6333e+00  2.6158e+00  2.6034e+00\n",
       "  -9.7273e-02  5.3643e-01  2.4905e-01  ...   2.6348e+00  2.5956e+00  2.5798e+00\n",
       "                  ...                   ⋱                   ...                \n",
       "  -6.0043e-01 -1.0418e+00 -1.3777e+00  ...  -6.0816e-01 -7.7455e-01 -7.9073e-01\n",
       "  -7.9116e-01 -8.7590e-01 -7.6213e-01  ...  -7.1165e-01 -7.7933e-01 -3.5530e-01\n",
       "  -7.8277e-01 -6.5167e-01 -5.4005e-01  ...  -7.5712e-01 -6.9598e-01 -7.0056e-01\n",
       "       ⋮  \n",
       " \n",
       " ( 3 , 0 ,.,.) = \n",
       "   1.9496e+00  1.9917e+00  1.9908e+00  ...   9.6262e-01  2.2358e+00  2.2406e+00\n",
       "   1.9525e+00  1.9641e+00  1.9825e+00  ...   6.3575e-01  2.2278e+00  2.2347e+00\n",
       "   1.9584e+00  1.9547e+00  1.9584e+00  ...   4.1413e-01  2.2054e+00  2.2304e+00\n",
       "                  ...                   ⋱                   ...                \n",
       "  -6.5734e-01 -8.3372e-01 -9.2820e-01  ...  -1.3381e+00 -8.3494e-01 -1.1914e+00\n",
       "  -6.8497e-01 -1.0105e+00 -7.5341e-01  ...  -1.0263e+00 -6.6748e-01 -1.1387e+00\n",
       "  -7.4882e-01 -9.6858e-01 -8.7803e-01  ...  -1.0424e+00 -9.6441e-01 -7.7796e-01\n",
       " \n",
       " ( 3 , 1 ,.,.) = \n",
       "   2.3677e+00  2.4083e+00  2.4098e+00  ...   1.3058e+00  2.4046e+00  2.4168e+00\n",
       "   2.3706e+00  2.3825e+00  2.4013e+00  ...   1.0152e+00  2.4150e+00  2.4232e+00\n",
       "   2.3767e+00  2.3729e+00  2.3767e+00  ...   8.1616e-01  2.4158e+00  2.4286e+00\n",
       "                  ...                   ⋱                   ...                \n",
       "  -4.5502e-01 -6.3533e-01 -7.3192e-01  ...  -1.1946e+00 -6.8851e-01 -1.0530e+00\n",
       "  -4.8326e-01 -8.1602e-01 -5.5322e-01  ...  -8.5094e-01 -4.9199e-01 -9.7374e-01\n",
       "  -5.4853e-01 -7.7320e-01 -6.8063e-01  ...  -8.4843e-01 -7.6894e-01 -5.7833e-01\n",
       " \n",
       " ( 3 , 2 ,.,.) = \n",
       "   2.5952e+00  2.6335e+00  2.6358e+00  ...   1.5831e+00  2.5558e+00  2.5868e+00\n",
       "   2.6129e+00  2.6113e+00  2.6290e+00  ...   1.3515e+00  2.6012e+00  2.6150e+00\n",
       "   2.6361e+00  2.6284e+00  2.6317e+00  ...   1.1905e+00  2.6220e+00  2.6375e+00\n",
       "                  ...                   ⋱                   ...                \n",
       "  -3.3535e-01 -5.1486e-01 -6.1102e-01  ...  -1.0223e+00 -5.1540e-01 -8.7794e-01\n",
       "  -3.6347e-01 -6.9474e-01 -4.3312e-01  ...  -6.8837e-01 -3.2847e-01 -8.0807e-01\n",
       "  -4.2845e-01 -6.5212e-01 -5.5996e-01  ...  -6.9216e-01 -6.1302e-01 -4.2325e-01\n",
       " [torch.FloatTensor of size 4x3x224x224], \n",
       "     1     0     0     0     0     0     0     1\n",
       "     0     0     0     0     1     0     0     1\n",
       "     1     1     0     0     0     0     0     1\n",
       "     1     0     0     0     0     0     0     1\n",
       " [torch.FloatTensor of size 4x8], {'file': ['C:\\\\fastai\\\\courses\\\\dl2\\\\data\\\\road_damage_dataset\\\\Ichihara\\\\JPEGImages\\\\train_Ichihara_00178.jpg',\n",
       "   'C:\\\\fastai\\\\courses\\\\dl2\\\\data\\\\road_damage_dataset\\\\Numazu\\\\JPEGImages\\\\train_Numazu_00269.jpg',\n",
       "   'C:\\\\fastai\\\\courses\\\\dl2\\\\data\\\\road_damage_dataset\\\\Nagakute\\\\JPEGImages\\\\train_Nagakute_00742.jpg',\n",
       "   'C:\\\\fastai\\\\courses\\\\dl2\\\\data\\\\road_damage_dataset\\\\Numazu\\\\JPEGImages\\\\train_Numazu_00406.jpg']}]"
      ]
     },
     "execution_count": 28,
     "metadata": {},
     "output_type": "execute_result"
    }
   ],
   "source": [
    "list(data['valid'])[0]"
   ]
  },
  {
   "cell_type": "code",
   "execution_count": null,
   "metadata": {},
   "outputs": [],
   "source": [
    "model_ft = models.resnet18(pretrained=True)\n",
    "model_ft.avgpool = nn.AdaptiveAvgPool2d(1)\n",
    "num_ftrs = model_ft.fc.in_features\n",
    "model_ft.fc = nn.Sequential(\n",
    "    nn.Dropout(p=.5),\n",
    "    nn.Linear(num_ftrs, num_classes),\n",
    "    nn.Sigmoid()\n",
    ")"
   ]
  },
  {
   "cell_type": "code",
   "execution_count": 30,
   "metadata": {},
   "outputs": [
    {
     "data": {
      "text/plain": [
       "ResNet(\n",
       "  (conv1): Conv2d (3, 64, kernel_size=(7, 7), stride=(2, 2), padding=(3, 3), bias=False)\n",
       "  (bn1): BatchNorm2d(64, eps=1e-05, momentum=0.1, affine=True)\n",
       "  (relu): ReLU(inplace)\n",
       "  (maxpool): MaxPool2d(kernel_size=(3, 3), stride=(2, 2), padding=(1, 1), dilation=(1, 1))\n",
       "  (layer1): Sequential(\n",
       "    (0): BasicBlock(\n",
       "      (conv1): Conv2d (64, 64, kernel_size=(3, 3), stride=(1, 1), padding=(1, 1), bias=False)\n",
       "      (bn1): BatchNorm2d(64, eps=1e-05, momentum=0.1, affine=True)\n",
       "      (relu): ReLU(inplace)\n",
       "      (conv2): Conv2d (64, 64, kernel_size=(3, 3), stride=(1, 1), padding=(1, 1), bias=False)\n",
       "      (bn2): BatchNorm2d(64, eps=1e-05, momentum=0.1, affine=True)\n",
       "    )\n",
       "    (1): BasicBlock(\n",
       "      (conv1): Conv2d (64, 64, kernel_size=(3, 3), stride=(1, 1), padding=(1, 1), bias=False)\n",
       "      (bn1): BatchNorm2d(64, eps=1e-05, momentum=0.1, affine=True)\n",
       "      (relu): ReLU(inplace)\n",
       "      (conv2): Conv2d (64, 64, kernel_size=(3, 3), stride=(1, 1), padding=(1, 1), bias=False)\n",
       "      (bn2): BatchNorm2d(64, eps=1e-05, momentum=0.1, affine=True)\n",
       "    )\n",
       "  )\n",
       "  (layer2): Sequential(\n",
       "    (0): BasicBlock(\n",
       "      (conv1): Conv2d (64, 128, kernel_size=(3, 3), stride=(2, 2), padding=(1, 1), bias=False)\n",
       "      (bn1): BatchNorm2d(128, eps=1e-05, momentum=0.1, affine=True)\n",
       "      (relu): ReLU(inplace)\n",
       "      (conv2): Conv2d (128, 128, kernel_size=(3, 3), stride=(1, 1), padding=(1, 1), bias=False)\n",
       "      (bn2): BatchNorm2d(128, eps=1e-05, momentum=0.1, affine=True)\n",
       "      (downsample): Sequential(\n",
       "        (0): Conv2d (64, 128, kernel_size=(1, 1), stride=(2, 2), bias=False)\n",
       "        (1): BatchNorm2d(128, eps=1e-05, momentum=0.1, affine=True)\n",
       "      )\n",
       "    )\n",
       "    (1): BasicBlock(\n",
       "      (conv1): Conv2d (128, 128, kernel_size=(3, 3), stride=(1, 1), padding=(1, 1), bias=False)\n",
       "      (bn1): BatchNorm2d(128, eps=1e-05, momentum=0.1, affine=True)\n",
       "      (relu): ReLU(inplace)\n",
       "      (conv2): Conv2d (128, 128, kernel_size=(3, 3), stride=(1, 1), padding=(1, 1), bias=False)\n",
       "      (bn2): BatchNorm2d(128, eps=1e-05, momentum=0.1, affine=True)\n",
       "    )\n",
       "  )\n",
       "  (layer3): Sequential(\n",
       "    (0): BasicBlock(\n",
       "      (conv1): Conv2d (128, 256, kernel_size=(3, 3), stride=(2, 2), padding=(1, 1), bias=False)\n",
       "      (bn1): BatchNorm2d(256, eps=1e-05, momentum=0.1, affine=True)\n",
       "      (relu): ReLU(inplace)\n",
       "      (conv2): Conv2d (256, 256, kernel_size=(3, 3), stride=(1, 1), padding=(1, 1), bias=False)\n",
       "      (bn2): BatchNorm2d(256, eps=1e-05, momentum=0.1, affine=True)\n",
       "      (downsample): Sequential(\n",
       "        (0): Conv2d (128, 256, kernel_size=(1, 1), stride=(2, 2), bias=False)\n",
       "        (1): BatchNorm2d(256, eps=1e-05, momentum=0.1, affine=True)\n",
       "      )\n",
       "    )\n",
       "    (1): BasicBlock(\n",
       "      (conv1): Conv2d (256, 256, kernel_size=(3, 3), stride=(1, 1), padding=(1, 1), bias=False)\n",
       "      (bn1): BatchNorm2d(256, eps=1e-05, momentum=0.1, affine=True)\n",
       "      (relu): ReLU(inplace)\n",
       "      (conv2): Conv2d (256, 256, kernel_size=(3, 3), stride=(1, 1), padding=(1, 1), bias=False)\n",
       "      (bn2): BatchNorm2d(256, eps=1e-05, momentum=0.1, affine=True)\n",
       "    )\n",
       "  )\n",
       "  (layer4): Sequential(\n",
       "    (0): BasicBlock(\n",
       "      (conv1): Conv2d (256, 512, kernel_size=(3, 3), stride=(2, 2), padding=(1, 1), bias=False)\n",
       "      (bn1): BatchNorm2d(512, eps=1e-05, momentum=0.1, affine=True)\n",
       "      (relu): ReLU(inplace)\n",
       "      (conv2): Conv2d (512, 512, kernel_size=(3, 3), stride=(1, 1), padding=(1, 1), bias=False)\n",
       "      (bn2): BatchNorm2d(512, eps=1e-05, momentum=0.1, affine=True)\n",
       "      (downsample): Sequential(\n",
       "        (0): Conv2d (256, 512, kernel_size=(1, 1), stride=(2, 2), bias=False)\n",
       "        (1): BatchNorm2d(512, eps=1e-05, momentum=0.1, affine=True)\n",
       "      )\n",
       "    )\n",
       "    (1): BasicBlock(\n",
       "      (conv1): Conv2d (512, 512, kernel_size=(3, 3), stride=(1, 1), padding=(1, 1), bias=False)\n",
       "      (bn1): BatchNorm2d(512, eps=1e-05, momentum=0.1, affine=True)\n",
       "      (relu): ReLU(inplace)\n",
       "      (conv2): Conv2d (512, 512, kernel_size=(3, 3), stride=(1, 1), padding=(1, 1), bias=False)\n",
       "      (bn2): BatchNorm2d(512, eps=1e-05, momentum=0.1, affine=True)\n",
       "    )\n",
       "  )\n",
       "  (avgpool): AdaptiveAvgPool2d(output_size=1)\n",
       "  (fc): Sequential(\n",
       "    (0): Dropout(p=0.5)\n",
       "    (1): Linear(in_features=512, out_features=8)\n",
       "    (2): Sigmoid()\n",
       "  )\n",
       ")"
      ]
     },
     "execution_count": 30,
     "metadata": {},
     "output_type": "execute_result"
    }
   ],
   "source": [
    "model_ft"
   ]
  },
  {
   "cell_type": "code",
   "execution_count": 13,
   "metadata": {},
   "outputs": [],
   "source": [
    "criterion = nn.BCELoss()\n",
    "optim_fn = optim.Adam"
   ]
  },
  {
   "cell_type": "code",
   "execution_count": 32,
   "metadata": {},
   "outputs": [],
   "source": [
    "sess = Session(model_ft, criterion, optim_fn, [*[1e-3] * 9, 1e-2])"
   ]
  },
  {
   "cell_type": "code",
   "execution_count": 33,
   "metadata": {},
   "outputs": [],
   "source": [
    "sess.freeze() "
   ]
  },
  {
   "cell_type": "code",
   "execution_count": 16,
   "metadata": {},
   "outputs": [
    {
     "data": {
      "application/vnd.jupyter.widget-view+json": {
       "model_id": "b9ccae167c4e4338b9736ba7f5534f9b",
       "version_major": 2,
       "version_minor": 0
      },
      "text/plain": [
       "HBox(children=(IntProgress(value=0, description='Epochs', max=1), HTML(value='')))"
      ]
     },
     "metadata": {},
     "output_type": "display_data"
    },
    {
     "data": {
      "application/vnd.jupyter.widget-view+json": {
       "model_id": "aebdc11c214d4d8eac84aab98ead8655",
       "version_major": 2,
       "version_minor": 0
      },
      "text/plain": [
       "HBox(children=(IntProgress(value=0, description='Steps', max=1403), HTML(value='')))"
      ]
     },
     "metadata": {},
     "output_type": "display_data"
    },
    {
     "name": "stdout",
     "output_type": "stream",
     "text": [
      "\n"
     ]
    },
    {
     "data": {
      "image/png": "[encoded data removed]",
      "text/plain": [
       "<Figure size 432x288 with 2 Axes>"
      ]
     },
     "metadata": {},
     "output_type": "display_data"
    }
   ],
   "source": [
    "lr_find(sess, data['train'], start_lr=1e-7)"
   ]
  },
  {
   "cell_type": "code",
   "execution_count": 34,
   "metadata": {},
   "outputs": [],
   "source": [
    "sess.set_lr(1e-3)"
   ]
  },
  {
   "cell_type": "code",
   "execution_count": 35,
   "metadata": {},
   "outputs": [
    {
     "data": {
      "application/vnd.jupyter.widget-view+json": {
       "model_id": "2ff352816e504a86917e10dadcd582d8",
       "version_major": 2,
       "version_minor": 0
      },
      "text/plain": [
       "HBox(children=(IntProgress(value=0, description='Epochs', max=3), HTML(value='')))"
      ]
     },
     "metadata": {},
     "output_type": "display_data"
    },
    {
     "data": {
      "application/vnd.jupyter.widget-view+json": {
       "model_id": "",
       "version_major": 2,
       "version_minor": 0
      },
      "text/plain": [
       "HBox(children=(IntProgress(value=0, description='Steps', max=1403), HTML(value='')))"
      ]
     },
     "metadata": {},
     "output_type": "display_data"
    },
    {
     "data": {
      "application/vnd.jupyter.widget-view+json": {
       "model_id": "784d6875f55249dea2afd09d70122032",
       "version_major": 2,
       "version_minor": 0
      },
      "text/plain": [
       "HBox(children=(IntProgress(value=0, description='Validating', max=351), HTML(value='')))"
      ]
     },
     "metadata": {},
     "output_type": "display_data"
    },
    {
     "name": "stdout",
     "output_type": "stream",
     "text": [
      "Training Loss: 0.422679  Validaton Loss: 0.374014 Validation Accuracy: 0.830421\n"
     ]
    },
    {
     "data": {
      "application/vnd.jupyter.widget-view+json": {
       "model_id": "",
       "version_major": 2,
       "version_minor": 0
      },
      "text/plain": [
       "HBox(children=(IntProgress(value=0, description='Steps', max=1403), HTML(value='')))"
      ]
     },
     "metadata": {},
     "output_type": "display_data"
    },
    {
     "data": {
      "application/vnd.jupyter.widget-view+json": {
       "model_id": "5083c50c60734b2289f0c9619ef09431",
       "version_major": 2,
       "version_minor": 0
      },
      "text/plain": [
       "HBox(children=(IntProgress(value=0, description='Validating', max=351), HTML(value='')))"
      ]
     },
     "metadata": {},
     "output_type": "display_data"
    },
    {
     "name": "stdout",
     "output_type": "stream",
     "text": [
      "Training Loss: 0.420258  Validaton Loss: 0.369875 Validation Accuracy: 0.831223\n"
     ]
    },
    {
     "data": {
      "application/vnd.jupyter.widget-view+json": {
       "model_id": "",
       "version_major": 2,
       "version_minor": 0
      },
      "text/plain": [
       "HBox(children=(IntProgress(value=0, description='Steps', max=1403), HTML(value='')))"
      ]
     },
     "metadata": {},
     "output_type": "display_data"
    },
    {
     "data": {
      "application/vnd.jupyter.widget-view+json": {
       "model_id": "fc86b7345b534c65aaefa406020a0d87",
       "version_major": 2,
       "version_minor": 0
      },
      "text/plain": [
       "HBox(children=(IntProgress(value=0, description='Validating', max=351), HTML(value='')))"
      ]
     },
     "metadata": {},
     "output_type": "display_data"
    },
    {
     "name": "stdout",
     "output_type": "stream",
     "text": [
      "Training Loss: 0.411655  Validaton Loss: 0.359913 Validation Accuracy: 0.837553\n"
     ]
    }
   ],
   "source": [
    "accuracy = NHotAccuracy(num_classes)\n",
    "validator = Validator(data['valid'], accuracy)\n",
    "lr_scheduler = CosAnneal(len(data['train']), T_mult=2)\n",
    "schedule = TrainingSchedule(data['train'], [validator, lr_scheduler])\n",
    "\n",
    "sess.train(schedule, 3)"
   ]
  },
  {
   "cell_type": "code",
   "execution_count": 36,
   "metadata": {},
   "outputs": [
    {
     "name": "stdout",
     "output_type": "stream",
     "text": [
      "{'correct_pos': 16, 'correct_neg': 1014, 'false_pos': 13, 'false_neg': 359}\n",
      "{'correct_pos': 153, 'correct_neg': 800, 'false_pos': 84, 'false_neg': 365}\n",
      "{'correct_pos': 0, 'correct_neg': 1309, 'false_pos': 0, 'false_neg': 93}\n",
      "{'correct_pos': 0, 'correct_neg': 1328, 'false_pos': 0, 'false_neg': 74}\n",
      "{'correct_pos': 132, 'correct_neg': 994, 'false_pos': 60, 'false_neg': 216}\n",
      "{'correct_pos': 0, 'correct_neg': 1358, 'false_pos': 0, 'false_neg': 44}\n",
      "{'correct_pos': 23, 'correct_neg': 1260, 'false_pos': 1, 'false_neg': 118}\n",
      "{'correct_pos': 219, 'correct_neg': 788, 'false_pos': 146, 'false_neg': 249}\n"
     ]
    }
   ],
   "source": [
    "for detail in accuracy.details:\n",
    "    print(detail)"
   ]
  },
  {
   "cell_type": "code",
   "execution_count": 37,
   "metadata": {},
   "outputs": [],
   "source": [
    "sess.save('TrainLayer1')"
   ]
  },
  {
   "cell_type": "code",
   "execution_count": 38,
   "metadata": {},
   "outputs": [],
   "source": [
    "sess.load('TrainLayer1')"
   ]
  },
  {
   "cell_type": "code",
   "execution_count": 34,
   "metadata": {},
   "outputs": [],
   "source": [
    "sess.unfreeze()"
   ]
  },
  {
   "cell_type": "code",
   "execution_count": 39,
   "metadata": {},
   "outputs": [
    {
     "data": {
      "application/vnd.jupyter.widget-view+json": {
       "model_id": "607817c5e3ed4e378132d6ab76cf6030",
       "version_major": 2,
       "version_minor": 0
      },
      "text/plain": [
       "HBox(children=(IntProgress(value=0, description='Epochs', max=1), HTML(value='')))"
      ]
     },
     "metadata": {},
     "output_type": "display_data"
    },
    {
     "data": {
      "application/vnd.jupyter.widget-view+json": {
       "model_id": "d3efa663aac94fa28c85896fc252fa0f",
       "version_major": 2,
       "version_minor": 0
      },
      "text/plain": [
       "HBox(children=(IntProgress(value=0, description='Steps', max=1403), HTML(value='')))"
      ]
     },
     "metadata": {},
     "output_type": "display_data"
    },
    {
     "data": {
      "image/png": "[encoded data removed]",
      "text/plain": [
       "<Figure size 432x288 with 2 Axes>"
      ]
     },
     "metadata": {},
     "output_type": "display_data"
    }
   ],
   "source": [
    "lr_find(sess, data['train'], \n",
    "        start_lr=[*[1e-6 / 1000] * 5, *[1e-6 / 100] * 4, 1e-6], \n",
    "        end_lr=[*[10 / 1000] * 5, *[10 / 100] * 4, 10])"
   ]
  },
  {
   "cell_type": "code",
   "execution_count": 40,
   "metadata": {},
   "outputs": [],
   "source": [
    "sess.set_lr([*[1e-4 / 1000] * 5, *[1e-4 / 100] * 4, 1e-4])"
   ]
  },
  {
   "cell_type": "code",
   "execution_count": null,
   "metadata": {},
   "outputs": [
    {
     "data": {
      "application/vnd.jupyter.widget-view+json": {
       "model_id": "3bc3150f6553459ab8e1158388dd12a9",
       "version_major": 2,
       "version_minor": 0
      },
      "text/plain": [
       "HBox(children=(IntProgress(value=0, description='Epochs', max=7), HTML(value='')))"
      ]
     },
     "metadata": {},
     "output_type": "display_data"
    },
    {
     "data": {
      "application/vnd.jupyter.widget-view+json": {
       "model_id": "",
       "version_major": 2,
       "version_minor": 0
      },
      "text/plain": [
       "HBox(children=(IntProgress(value=0, description='Steps', max=1403), HTML(value='')))"
      ]
     },
     "metadata": {},
     "output_type": "display_data"
    },
    {
     "data": {
      "application/vnd.jupyter.widget-view+json": {
       "model_id": "",
       "version_major": 2,
       "version_minor": 0
      },
      "text/plain": [
       "HBox(children=(IntProgress(value=0, description='Validating', max=351), HTML(value='')))"
      ]
     },
     "metadata": {},
     "output_type": "display_data"
    },
    {
     "name": "stdout",
     "output_type": "stream",
     "text": [
      "Training Loss: 0.398359  Validaton Loss: 0.382273 Validation Accuracy: 0.831580\n"
     ]
    },
    {
     "data": {
      "application/vnd.jupyter.widget-view+json": {
       "model_id": "",
       "version_major": 2,
       "version_minor": 0
      },
      "text/plain": [
       "HBox(children=(IntProgress(value=0, description='Steps', max=1403), HTML(value='')))"
      ]
     },
     "metadata": {},
     "output_type": "display_data"
    },
    {
     "data": {
      "application/vnd.jupyter.widget-view+json": {
       "model_id": "",
       "version_major": 2,
       "version_minor": 0
      },
      "text/plain": [
       "HBox(children=(IntProgress(value=0, description='Validating', max=351), HTML(value='')))"
      ]
     },
     "metadata": {},
     "output_type": "display_data"
    },
    {
     "name": "stdout",
     "output_type": "stream",
     "text": [
      "Training Loss: 0.396856  Validaton Loss: 0.399590 Validation Accuracy: 0.833898\n"
     ]
    },
    {
     "data": {
      "application/vnd.jupyter.widget-view+json": {
       "model_id": "51dcf1f0ebc54e17944b309745eed816",
       "version_major": 2,
       "version_minor": 0
      },
      "text/plain": [
       "HBox(children=(IntProgress(value=0, description='Steps', max=1403), HTML(value='')))"
      ]
     },
     "metadata": {},
     "output_type": "display_data"
    }
   ],
   "source": [
    "accuracy = NHotAccuracy(num_classes)\n",
    "validator = Validator(data['valid'], accuracy)\n",
    "lr_scheduler = CosAnneal(len(data['train']), T_mult=2)\n",
    "schedule = TrainingSchedule(data['train'], [validator, lr_scheduler])\n",
    "\n",
    "sess.train(schedule, 7)"
   ]
  },
  {
   "cell_type": "code",
   "execution_count": null,
   "metadata": {},
   "outputs": [],
   "source": [
    "for detail in accuracy.details:\n",
    "    print(detail)"
   ]
  },
  {
   "cell_type": "code",
   "execution_count": null,
   "metadata": {},
   "outputs": [],
   "source": [
    "lr_scheduler.plot()"
   ]
  },
  {
   "cell_type": "code",
   "execution_count": null,
   "metadata": {},
   "outputs": [],
   "source": [
    "sess.save('FullTrain')"
   ]
  },
  {
   "cell_type": "code",
   "execution_count": null,
   "metadata": {},
   "outputs": [],
   "source": [
    "sess.load('FullTrain')"
   ]
  },
  {
   "cell_type": "code",
   "execution_count": null,
   "metadata": {},
   "outputs": [],
   "source": [
    "sess.train(schedule, 8)"
   ]
  },
  {
   "cell_type": "code",
   "execution_count": null,
   "metadata": {},
   "outputs": [],
   "source": [
    "sess.save('FullTrain2')"
   ]
  },
  {
   "cell_type": "code",
   "execution_count": null,
   "metadata": {},
   "outputs": [],
   "source": [
    "sess.load('FullTrain2')"
   ]
  },
  {
   "cell_type": "code",
   "execution_count": null,
   "metadata": {},
   "outputs": [],
   "source": []
  }
 ],
 "metadata": {
  "kernelspec": {
   "display_name": "fastAI custom",
   "language": "python",
   "name": "fastai"
  },
  "language_info": {
   "codemirror_mode": {
    "name": "ipython",
    "version": 3
   },
   "file_extension": ".py",
   "mimetype": "text/x-python",
   "name": "python",
   "nbconvert_exporter": "python",
   "pygments_lexer": "ipython3",
   "version": "3.6.6"
  }
 },
 "nbformat": 4,
 "nbformat_minor": 2
}
