{
 "cells": [
  {
   "cell_type": "code",
   "execution_count": 31,
   "metadata": {},
   "outputs": [],
   "source": [
    "from pathlib import Path\n",
    "import itertools\n",
    "import numpy as np\n",
    "import pandas as pd\n",
    "import torch\n",
    "from torch.utils.data import Dataset, DataLoader\n",
    "import torch.nn as nn\n",
    "import torch.optim as optim\n",
    "import torch.nn.functional as F\n",
    "import torchvision\n",
    "import torchvision.models as models\n",
    "import Datasets.ModelData as md\n",
    "from session import *\n",
    "from LR_Schedule.lr_find import lr_find\n",
    "from callbacks import *\n",
    "from validation import *\n",
    "from validation import _AccuracyMeter\n",
    "from LR_Schedule.cos_anneal import CosAnneal\n",
    "import matplotlib.pyplot as plt"
   ]
  },
  {
   "cell_type": "code",
   "execution_count": 32,
   "metadata": {},
   "outputs": [
    {
     "name": "stdout",
     "output_type": "stream",
     "text": [
      "The autoreload extension is already loaded. To reload it, use:\n",
      "  %reload_ext autoreload\n"
     ]
    }
   ],
   "source": [
    "%load_ext autoreload\n",
    "%autoreload 2"
   ]
  },
  {
   "cell_type": "code",
   "execution_count": 33,
   "metadata": {},
   "outputs": [],
   "source": [
    "idtohand = {0: \"Nothing in hand; not a recognized poker hand\",\n",
    "            1: \"One pair; one pair of equal ranks within five cards\",\n",
    "            2: \"Two pairs; two pairs of equal ranks within five cards\",\n",
    "            3: \"Three of a kind; three equal ranks within five cards\",\n",
    "            4: \"Straight; five cards, sequentially ranked with no gaps\",\n",
    "            5: \"Flush; five cards with the same suit\",\n",
    "            6: \"Full house; pair + different rank three of a kind\",\n",
    "            7: \"Four of a kind; four equal ranks within five cards\",\n",
    "            8: \"Straight flush; straight + flush\",\n",
    "            9: \"Royal flush; {Ace, King, Queen, Jack, Ten} + flush\" }\n",
    "\n",
    "num_classes = 10\n",
    "\n",
    "idtosuit = {0: \"Hearts\", 1: \"Spades\", 2: \"Diamonds\", 3: \"Clubs\"}\n",
    "idtorank = {0: \"Ace\", \n",
    "            1: \"2\", \n",
    "            2: \"3\", \n",
    "            3: \"4\", \n",
    "            4: \"5\", \n",
    "            5: \"6\", \n",
    "            6: \"7\", \n",
    "            7: \"8\", \n",
    "            8: \"9\", \n",
    "            9: \"10\", \n",
    "            10: \"Jack\", \n",
    "            11: \"Queen\", \n",
    "            12: \"King\"}"
   ]
  },
  {
   "cell_type": "code",
   "execution_count": 34,
   "metadata": {},
   "outputs": [],
   "source": [
    "class PokerHandDataset(Dataset):\n",
    "    def __init__(self, file, percentage=1):\n",
    "        self.hands, self.labels = self.parse_csv(file, percentage)\n",
    "       \n",
    "    @staticmethod\n",
    "    def parse_csv(file, percentage=1):\n",
    "        df = pd.read_csv(file, header=None)\n",
    "        xs = df[df.columns[0:10]]\n",
    "        ys = df[df.columns[-1]]\n",
    "        \n",
    "        labels = np.array([label for label in ys])\n",
    "        hands = np.array([np.array(hand).reshape((5,2)) - 1 for hand in xs.values])\n",
    "        \n",
    "        if percentage < 1:\n",
    "            idxs = np.random.choice(len(xs), int(len(xs) * percentage), replace=False)\n",
    "            hands = hands[idxs]\n",
    "            labels = labels[idxs]\n",
    "            \n",
    "        return hands, ys\n",
    "        \n",
    "    @staticmethod\n",
    "    def make_tensor(hand):\n",
    "        hand_tensor = torch.zeros((4,13))\n",
    "        for card in hand:       \n",
    "            hand_tensor[card[0], card[1]] = 1\n",
    "        return hand_tensor.unsqueeze(0)\n",
    "    \n",
    "    @staticmethod\n",
    "    def make_one_hot(label):\n",
    "        tensor = torch.zeros(10)\n",
    "        tensor[label] = 1\n",
    "        return tensor\n",
    "    \n",
    "    def __len__(self): return len(self.hands)\n",
    "\n",
    "    def __getitem__(self, i):\n",
    "        hand, label = self.hands[i], self.labels[i]\n",
    "        x, y = self.make_tensor(hand), self.make_one_hot(label)\n",
    "        return x, y"
   ]
  },
  {
   "cell_type": "code",
   "execution_count": 35,
   "metadata": {},
   "outputs": [],
   "source": [
    "data_path = Path(\"./Datasets/PokerHands\")\n",
    "train_dataset = PokerHandDataset(data_path/'training.csv')\n",
    "test_dataset = PokerHandDataset(data_path/'testing.csv', percentage=.05)"
   ]
  },
  {
   "cell_type": "code",
   "execution_count": 36,
   "metadata": {},
   "outputs": [],
   "source": [
    "data = md.ModelData({'train': train_dataset, 'test': test_dataset}, 64)"
   ]
  },
  {
   "cell_type": "code",
   "execution_count": 70,
   "metadata": {},
   "outputs": [],
   "source": [
    "class Network(nn.Module):\n",
    "    def __init__(self):\n",
    "        super().__init__();\n",
    "        self.conv1 = nn.Conv2d(1, 64, (4,1))       \n",
    "        self.conv2 = nn.Conv2d(1, 64, (1,13))\n",
    "        self.relu = nn.ReLU(inplace=True)\n",
    "        self.drop = nn.Dropout(p=.9)\n",
    "        self.fc1 = nn.Linear(64*4 + 64*13, 100)\n",
    "        self.fc2 = nn.Linear(100, num_classes)\n",
    "        \n",
    "    def forward(self, x):\n",
    "        x_1 = self.conv1(x)\n",
    "        x_2 = self.conv2(x)\n",
    "        x = torch.cat([x_1.view(x_1.size(0), -1), x_2.view(x_2.size(0), -1)], dim=1)\n",
    "        x = self.drop(x)\n",
    "        x = self.relu(x)\n",
    "        x = self.fc1(x)\n",
    "        x = self.relu(x)\n",
    "        x = self.fc2(x)\n",
    "        return F.softmax(x, dim=1)\n",
    "\n",
    "model = Network()"
   ]
  },
  {
   "cell_type": "code",
   "execution_count": 71,
   "metadata": {},
   "outputs": [],
   "source": [
    "class FocalLoss(nn.Module):\n",
    "    def __init__(self, num_classes):\n",
    "        super().__init__()\n",
    "        self.num_classes = num_classes\n",
    "\n",
    "    def forward(self, pred, label):\n",
    "        weight = self.get_weight(pred, label)\n",
    "        return F.binary_cross_entropy_with_logits(pred, label, weight)\n",
    "    \n",
    "    def get_weight(self, x, t):\n",
    "        alpha, gamma = 0.25, 2\n",
    "        p = x\n",
    "        pt = p * t + (1-p) * (1-t)\n",
    "        w = alpha * t + (1-alpha) * (1-t)\n",
    "        return w * (1-pt).pow(gamma)"
   ]
  },
  {
   "cell_type": "code",
   "execution_count": 72,
   "metadata": {},
   "outputs": [],
   "source": [
    "class PokerHandAccuracy(_AccuracyMeter):\n",
    "    def __init__(self):\n",
    "        self.reset()\n",
    "        self.confusion = [[0 for y in range(num_classes)] for x in range(num_classes)]\n",
    "\n",
    "    def reset(self):\n",
    "        self.num_correct = 0\n",
    "        self.count = 0\n",
    "        self.confusion = [[0 for y in range(num_classes)] for x in range(num_classes)]\n",
    "        \n",
    "    def accuracy(self): \n",
    "        return self.num_correct / self.count\n",
    "\n",
    "    def update(self, actn, label, log=False):   \n",
    "        outputs = torch.sigmoid(actn)\n",
    "        # if log: print(\"Actn : \", outputs)\n",
    "        vals, preds = torch.max(outputs, 1)\n",
    "        # preds = preds + 1\n",
    "        if log: print(\"Max  :\", preds)\n",
    "        # bgs = vals < .7\n",
    "        # if log: print(\"BGS  : \", bgs)\n",
    "        # preds[bgs] = 0\n",
    "        if log: print(\"Preds: \", preds)\n",
    "        _, gt = torch.max(label, 1)     \n",
    "        if log: print(\"GT   : \", gt)\n",
    "        self.num_correct += torch.sum(preds == gt).item()\n",
    "        if log: print(\"Num Correct: \", self.num_correct)\n",
    "        self.count += label.shape[0]\n",
    "        \n",
    "        for lab, pred in zip(gt, preds):\n",
    "            self.confusion[lab][pred] += 1\n",
    "            \n",
    "    def plot_confusion_matrix(self,\n",
    "                          title='Confusion matrix',\n",
    "                          cmap=plt.cm.Blues):\n",
    "        cm = np.array(self.confusion)\n",
    "        fig, ax = plt.subplots(figsize=(12,12))\n",
    "        img = ax.imshow(cm, interpolation='nearest', cmap=cmap)\n",
    "        plt.colorbar(img, ax=ax)\n",
    "        ax.set_title(title)\n",
    "        tick_marks = np.arange(num_classes)\n",
    "        plt.xticks(tick_marks, rotation=45)\n",
    "        plt.yticks(tick_marks)\n",
    "\n",
    "        fmt = 'd'\n",
    "        thresh = cm.max() / 2.\n",
    "        for i, j in itertools.product(range(cm.shape[0]), range(cm.shape[1])):\n",
    "            ax.text(j, i, format(cm[i, j], fmt),\n",
    "                     horizontalalignment=\"center\",\n",
    "                     color=\"white\" if cm[i, j] > thresh else \"black\")\n",
    "\n",
    "        ax.set_ylabel('True label')\n",
    "        ax.set_xlabel('Predicted label')"
   ]
  },
  {
   "cell_type": "code",
   "execution_count": 73,
   "metadata": {},
   "outputs": [],
   "source": [
    "criterion = FocalLoss(num_classes)\n",
    "optim_fn = optim.Adam\n",
    "sess = Session(model, criterion, optim_fn, 1e-2)"
   ]
  },
  {
   "cell_type": "code",
   "execution_count": 74,
   "metadata": {},
   "outputs": [],
   "source": [
    "x, y = next(iter(data['train']))\n",
    "actn = sess.forward(x)\n",
    "accuracy = PokerHandAccuracy()"
   ]
  },
  {
   "cell_type": "code",
   "execution_count": 75,
   "metadata": {
    "scrolled": false
   },
   "outputs": [
    {
     "name": "stdout",
     "output_type": "stream",
     "text": [
      "Max  : tensor([5, 7, 3, 3, 2, 8, 4, 6, 3, 8, 9, 3, 5, 0, 0, 0, 5, 3, 2, 4, 8, 0, 8, 8,\n",
      "        1, 3, 5, 7, 9, 8, 8, 4, 3, 0, 4, 4, 4, 4, 8, 5, 5, 8, 5, 0, 8, 5, 0, 8,\n",
      "        8, 0, 0, 5, 0, 5, 5, 0, 2, 7, 5, 2, 8, 3, 4, 3])\n",
      "Preds:  tensor([5, 7, 3, 3, 2, 8, 4, 6, 3, 8, 9, 3, 5, 0, 0, 0, 5, 3, 2, 4, 8, 0, 8, 8,\n",
      "        1, 3, 5, 7, 9, 8, 8, 4, 3, 0, 4, 4, 4, 4, 8, 5, 5, 8, 5, 0, 8, 5, 0, 8,\n",
      "        8, 0, 0, 5, 0, 5, 5, 0, 2, 7, 5, 2, 8, 3, 4, 3])\n",
      "GT   :  tensor([0, 1, 1, 0, 2, 2, 1, 0, 0, 0, 1, 1, 0, 1, 1, 1, 1, 1, 1, 1, 1, 1, 0, 0,\n",
      "        0, 0, 1, 1, 0, 2, 0, 0, 0, 2, 2, 2, 0, 1, 0, 1, 1, 1, 1, 0, 1, 0, 0, 1,\n",
      "        0, 0, 0, 1, 1, 0, 0, 0, 0, 0, 1, 1, 0, 0, 1, 0])\n",
      "Num Correct:  6\n"
     ]
    }
   ],
   "source": [
    "accuracy.update(actn, y, log=True)"
   ]
  },
  {
   "cell_type": "code",
   "execution_count": 76,
   "metadata": {},
   "outputs": [
    {
     "data": {
      "image/png": "[encoded data removed]",
      "text/plain": [
       "<Figure size 864x864 with 2 Axes>"
      ]
     },
     "metadata": {
      "needs_background": "light"
     },
     "output_type": "display_data"
    }
   ],
   "source": [
    "accuracy.plot_confusion_matrix()"
   ]
  },
  {
   "cell_type": "code",
   "execution_count": 77,
   "metadata": {
    "scrolled": false
   },
   "outputs": [
    {
     "data": {
      "application/vnd.jupyter.widget-view+json": {
       "model_id": "507e3df873a04532a8c03c23b1e1b48c",
       "version_major": 2,
       "version_minor": 0
      },
      "text/plain": [
       "HBox(children=(IntProgress(value=0, description='Epochs', max=1, style=ProgressStyle(description_width='initia…"
      ]
     },
     "metadata": {},
     "output_type": "display_data"
    },
    {
     "data": {
      "application/vnd.jupyter.widget-view+json": {
       "model_id": "",
       "version_major": 2,
       "version_minor": 0
      },
      "text/plain": [
       "HBox(children=(IntProgress(value=0, description='Steps', max=391, style=ProgressStyle(description_width='initi…"
      ]
     },
     "metadata": {},
     "output_type": "display_data"
    },
    {
     "name": "stdout",
     "output_type": "stream",
     "text": [
      "\n"
     ]
    },
    {
     "data": {
      "image/png": "[encoded data removed]",
      "text/plain": [
       "<Figure size 432x288 with 2 Axes>"
      ]
     },
     "metadata": {
      "needs_background": "light"
     },
     "output_type": "display_data"
    }
   ],
   "source": [
    "lr_find(sess, data['train'], start_lr=1e-7)"
   ]
  },
  {
   "cell_type": "code",
   "execution_count": 78,
   "metadata": {},
   "outputs": [],
   "source": [
    "sess.set_lr(1e-2)"
   ]
  },
  {
   "cell_type": "code",
   "execution_count": 79,
   "metadata": {},
   "outputs": [],
   "source": [
    "accuracy = PokerHandAccuracy()\n",
    "validator = Validator(data['test'], accuracy)\n",
    "lr_schedule = CosAnneal(len(data['train']), lr_min=1e-5, T_mult=2)\n",
    "schedule = TrainingSchedule(data['train'], [lr_schedule, validator])"
   ]
  },
  {
   "cell_type": "code",
   "execution_count": 80,
   "metadata": {
    "scrolled": false
   },
   "outputs": [
    {
     "data": {
      "application/vnd.jupyter.widget-view+json": {
       "model_id": "741acbc31c5a4924b72c94f0e0a972db",
       "version_major": 2,
       "version_minor": 0
      },
      "text/plain": [
       "HBox(children=(IntProgress(value=0, description='Epochs', max=3, style=ProgressStyle(description_width='initia…"
      ]
     },
     "metadata": {},
     "output_type": "display_data"
    },
    {
     "data": {
      "application/vnd.jupyter.widget-view+json": {
       "model_id": "",
       "version_major": 2,
       "version_minor": 0
      },
      "text/plain": [
       "HBox(children=(IntProgress(value=0, description='Steps', max=391, style=ProgressStyle(description_width='initi…"
      ]
     },
     "metadata": {},
     "output_type": "display_data"
    },
    {
     "data": {
      "application/vnd.jupyter.widget-view+json": {
       "model_id": "",
       "version_major": 2,
       "version_minor": 0
      },
      "text/plain": [
       "HBox(children=(IntProgress(value=0, description='Validating', max=782, style=ProgressStyle(description_width='…"
      ]
     },
     "metadata": {},
     "output_type": "display_data"
    },
    {
     "name": "stdout",
     "output_type": "stream",
     "text": [
      "Training Loss: 0.012628  Validaton Loss: 0.015633 Validation Accuracy: 0.469080\n"
     ]
    },
    {
     "data": {
      "application/vnd.jupyter.widget-view+json": {
       "model_id": "",
       "version_major": 2,
       "version_minor": 0
      },
      "text/plain": [
       "HBox(children=(IntProgress(value=0, description='Steps', max=391, style=ProgressStyle(description_width='initi…"
      ]
     },
     "metadata": {},
     "output_type": "display_data"
    },
    {
     "data": {
      "application/vnd.jupyter.widget-view+json": {
       "model_id": "",
       "version_major": 2,
       "version_minor": 0
      },
      "text/plain": [
       "HBox(children=(IntProgress(value=0, description='Validating', max=782, style=ProgressStyle(description_width='…"
      ]
     },
     "metadata": {},
     "output_type": "display_data"
    },
    {
     "name": "stdout",
     "output_type": "stream",
     "text": [
      "Training Loss: 0.010573  Validaton Loss: 0.022180 Validation Accuracy: 0.463020\n"
     ]
    },
    {
     "data": {
      "application/vnd.jupyter.widget-view+json": {
       "model_id": "",
       "version_major": 2,
       "version_minor": 0
      },
      "text/plain": [
       "HBox(children=(IntProgress(value=0, description='Steps', max=391, style=ProgressStyle(description_width='initi…"
      ]
     },
     "metadata": {},
     "output_type": "display_data"
    },
    {
     "data": {
      "application/vnd.jupyter.widget-view+json": {
       "model_id": "",
       "version_major": 2,
       "version_minor": 0
      },
      "text/plain": [
       "HBox(children=(IntProgress(value=0, description='Validating', max=782, style=ProgressStyle(description_width='…"
      ]
     },
     "metadata": {},
     "output_type": "display_data"
    },
    {
     "name": "stdout",
     "output_type": "stream",
     "text": [
      "Training Loss: 0.009669  Validaton Loss: 0.023911 Validation Accuracy: 0.463020\n",
      "\n"
     ]
    }
   ],
   "source": [
    "sess.train(schedule, 3)"
   ]
  },
  {
   "cell_type": "code",
   "execution_count": 81,
   "metadata": {},
   "outputs": [
    {
     "data": {
      "image/png": "[encoded data removed]",
      "text/plain": [
       "<Figure size 864x864 with 2 Axes>"
      ]
     },
     "metadata": {
      "needs_background": "light"
     },
     "output_type": "display_data"
    }
   ],
   "source": [
    "accuracy.plot_confusion_matrix()"
   ]
  },
  {
   "cell_type": "code",
   "execution_count": 65,
   "metadata": {},
   "outputs": [
    {
     "data": {
      "image/png": "[encoded data removed]",
      "text/plain": [
       "<Figure size 432x288 with 1 Axes>"
      ]
     },
     "metadata": {
      "needs_background": "light"
     },
     "output_type": "display_data"
    }
   ],
   "source": [
    "lr_schedule.plot()"
   ]
  },
  {
   "cell_type": "code",
   "execution_count": 66,
   "metadata": {},
   "outputs": [],
   "source": [
    "sess.save(\"PokerHand-99.6\")"
   ]
  },
  {
   "cell_type": "code",
   "execution_count": 67,
   "metadata": {},
   "outputs": [],
   "source": [
    "t_accuracy = PokerHandAccuracy()\n",
    "t_validator = Validator(data['train'], t_accuracy)"
   ]
  },
  {
   "cell_type": "code",
   "execution_count": 68,
   "metadata": {},
   "outputs": [
    {
     "data": {
      "application/vnd.jupyter.widget-view+json": {
       "model_id": "",
       "version_major": 2,
       "version_minor": 0
      },
      "text/plain": [
       "HBox(children=(IntProgress(value=0, description='Validating', max=391, style=ProgressStyle(description_width='…"
      ]
     },
     "metadata": {},
     "output_type": "display_data"
    },
    {
     "name": "stdout",
     "output_type": "stream",
     "text": [
      "\r",
      "Training Loss: 0.000000  Validaton Loss: 0.001169 Validation Accuracy: 0.984366\n"
     ]
    }
   ],
   "source": [
    "t_validator.on_epoch_end(sess, LossMeter())"
   ]
  },
  {
   "cell_type": "code",
   "execution_count": 69,
   "metadata": {},
   "outputs": [
    {
     "data": {
      "text/plain": [
       "[[12493, 0, 0, 0, 0, 0, 0, 0, 0, 0],\n",
       " [0, 10599, 0, 0, 0, 0, 0, 0, 0, 0],\n",
       " [0, 0, 1203, 3, 0, 0, 0, 0, 0, 0],\n",
       " [0, 0, 189, 324, 0, 0, 0, 0, 0, 0],\n",
       " [93, 0, 0, 0, 0, 0, 0, 0, 0, 0],\n",
       " [54, 0, 0, 0, 0, 0, 0, 0, 0, 0],\n",
       " [0, 0, 34, 2, 0, 0, 0, 0, 0, 0],\n",
       " [0, 0, 2, 4, 0, 0, 0, 0, 0, 0],\n",
       " [5, 0, 0, 0, 0, 0, 0, 0, 0, 0],\n",
       " [5, 0, 0, 0, 0, 0, 0, 0, 0, 0]]"
      ]
     },
     "execution_count": 69,
     "metadata": {},
     "output_type": "execute_result"
    }
   ],
   "source": [
    "t_accuracy.confusion"
   ]
  },
  {
   "cell_type": "code",
   "execution_count": null,
   "metadata": {},
   "outputs": [],
   "source": [
    "len(data['train'])"
   ]
  },
  {
   "cell_type": "code",
   "execution_count": null,
   "metadata": {},
   "outputs": [],
   "source": [
    "len(data['test'])"
   ]
  },
  {
   "cell_type": "code",
   "execution_count": null,
   "metadata": {},
   "outputs": [],
   "source": []
  }
 ],
 "metadata": {
  "kernelspec": {
   "display_name": "Python 3",
   "language": "python",
   "name": "python3"
  },
  "language_info": {
   "codemirror_mode": {
    "name": "ipython",
    "version": 3
   },
   "file_extension": ".py",
   "mimetype": "text/x-python",
   "name": "python",
   "nbconvert_exporter": "python",
   "pygments_lexer": "ipython3",
   "version": "3.6.6"
  }
 },
 "nbformat": 4,
 "nbformat_minor": 2
}
